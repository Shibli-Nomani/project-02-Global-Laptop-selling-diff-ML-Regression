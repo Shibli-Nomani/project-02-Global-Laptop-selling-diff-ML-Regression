{
  "cells": [
    {
      "cell_type": "markdown",
      "metadata": {
        "id": "view-in-github",
        "colab_type": "text"
      },
      "source": [
        "<a href=\"https://colab.research.google.com/github/Shibli-Nomani/project-02-Global-Laptop-selling-diff-ML-Regression/blob/main/project_02_global_laptop_selling_Regression_ML.ipynb\" target=\"_parent\"><img src=\"https://colab.research.google.com/assets/colab-badge.svg\" alt=\"Open In Colab\"/></a>"
      ]
    },
    {
      "cell_type": "code",
      "source": [
        "from google.colab import drive\n",
        "drive.mount('/content/gdrive')\n",
        "import warnings\n",
        "warnings.filterwarnings(\"ignore\")"
      ],
      "metadata": {
        "id": "mVT6RGkyMx4C",
        "colab": {
          "base_uri": "https://localhost:8080/"
        },
        "outputId": "026b4314-13eb-4908-fbc1-cf569a047fe6"
      },
      "id": "mVT6RGkyMx4C",
      "execution_count": 3,
      "outputs": [
        {
          "output_type": "stream",
          "name": "stdout",
          "text": [
            "Mounted at /content/gdrive\n"
          ]
        }
      ]
    },
    {
      "cell_type": "code",
      "execution_count": 81,
      "id": "2c7eaf31",
      "metadata": {
        "id": "2c7eaf31"
      },
      "outputs": [],
      "source": [
        "import pandas as pd\n",
        "import numpy as np\n",
        "import seaborn as sns\n",
        "import matplotlib.pyplot as plt\n",
        "%matplotlib inline\n",
        "path='/content/gdrive/MyDrive/Regression Model For Multi ML/global_laptop_selling_data.csv'"
      ]
    },
    {
      "cell_type": "code",
      "source": [
        "df=pd.read_csv(path, encoding='latin-1')\n",
        "df.head(5)"
      ],
      "metadata": {
        "colab": {
          "base_uri": "https://localhost:8080/",
          "height": 206
        },
        "id": "WXISr9djN2rb",
        "outputId": "bd91f2df-9669-4abd-8391-16e59f0880f2"
      },
      "id": "WXISr9djN2rb",
      "execution_count": 82,
      "outputs": [
        {
          "output_type": "execute_result",
          "data": {
            "text/plain": [
              "   laptop_ID Company      Product   TypeName  Inches  \\\n",
              "0          1   Apple  MacBook Pro  Ultrabook    13.3   \n",
              "1          2   Apple  Macbook Air  Ultrabook    13.3   \n",
              "2          3      HP       250 G6   Notebook    15.6   \n",
              "3          4   Apple  MacBook Pro  Ultrabook    15.4   \n",
              "4          5   Apple  MacBook Pro  Ultrabook    13.3   \n",
              "\n",
              "                     ScreenResolution                         Cpu   Ram  \\\n",
              "0  IPS Panel Retina Display 2560x1600        Intel Core i5 2.3GHz   8GB   \n",
              "1                            1440x900        Intel Core i5 1.8GHz   8GB   \n",
              "2                   Full HD 1920x1080  Intel Core i5 7200U 2.5GHz   8GB   \n",
              "3  IPS Panel Retina Display 2880x1800        Intel Core i7 2.7GHz  16GB   \n",
              "4  IPS Panel Retina Display 2560x1600        Intel Core i5 3.1GHz   8GB   \n",
              "\n",
              "                Memory                           Gpu  OpSys  Weight  \\\n",
              "0            128GB SSD  Intel Iris Plus Graphics 640  macOS  1.37kg   \n",
              "1  128GB Flash Storage        Intel HD Graphics 6000  macOS  1.34kg   \n",
              "2            256GB SSD         Intel HD Graphics 620  No OS  1.86kg   \n",
              "3            512GB SSD            AMD Radeon Pro 455  macOS  1.83kg   \n",
              "4            256GB SSD  Intel Iris Plus Graphics 650  macOS  1.37kg   \n",
              "\n",
              "   Price_euros  \n",
              "0      1339.69  \n",
              "1       898.94  \n",
              "2       575.00  \n",
              "3      2537.45  \n",
              "4      1803.60  "
            ],
            "text/html": [
              "\n",
              "  <div id=\"df-a3e561c4-7d6e-4c16-b75e-bbf473b9b13a\">\n",
              "    <div class=\"colab-df-container\">\n",
              "      <div>\n",
              "<style scoped>\n",
              "    .dataframe tbody tr th:only-of-type {\n",
              "        vertical-align: middle;\n",
              "    }\n",
              "\n",
              "    .dataframe tbody tr th {\n",
              "        vertical-align: top;\n",
              "    }\n",
              "\n",
              "    .dataframe thead th {\n",
              "        text-align: right;\n",
              "    }\n",
              "</style>\n",
              "<table border=\"1\" class=\"dataframe\">\n",
              "  <thead>\n",
              "    <tr style=\"text-align: right;\">\n",
              "      <th></th>\n",
              "      <th>laptop_ID</th>\n",
              "      <th>Company</th>\n",
              "      <th>Product</th>\n",
              "      <th>TypeName</th>\n",
              "      <th>Inches</th>\n",
              "      <th>ScreenResolution</th>\n",
              "      <th>Cpu</th>\n",
              "      <th>Ram</th>\n",
              "      <th>Memory</th>\n",
              "      <th>Gpu</th>\n",
              "      <th>OpSys</th>\n",
              "      <th>Weight</th>\n",
              "      <th>Price_euros</th>\n",
              "    </tr>\n",
              "  </thead>\n",
              "  <tbody>\n",
              "    <tr>\n",
              "      <th>0</th>\n",
              "      <td>1</td>\n",
              "      <td>Apple</td>\n",
              "      <td>MacBook Pro</td>\n",
              "      <td>Ultrabook</td>\n",
              "      <td>13.3</td>\n",
              "      <td>IPS Panel Retina Display 2560x1600</td>\n",
              "      <td>Intel Core i5 2.3GHz</td>\n",
              "      <td>8GB</td>\n",
              "      <td>128GB SSD</td>\n",
              "      <td>Intel Iris Plus Graphics 640</td>\n",
              "      <td>macOS</td>\n",
              "      <td>1.37kg</td>\n",
              "      <td>1339.69</td>\n",
              "    </tr>\n",
              "    <tr>\n",
              "      <th>1</th>\n",
              "      <td>2</td>\n",
              "      <td>Apple</td>\n",
              "      <td>Macbook Air</td>\n",
              "      <td>Ultrabook</td>\n",
              "      <td>13.3</td>\n",
              "      <td>1440x900</td>\n",
              "      <td>Intel Core i5 1.8GHz</td>\n",
              "      <td>8GB</td>\n",
              "      <td>128GB Flash Storage</td>\n",
              "      <td>Intel HD Graphics 6000</td>\n",
              "      <td>macOS</td>\n",
              "      <td>1.34kg</td>\n",
              "      <td>898.94</td>\n",
              "    </tr>\n",
              "    <tr>\n",
              "      <th>2</th>\n",
              "      <td>3</td>\n",
              "      <td>HP</td>\n",
              "      <td>250 G6</td>\n",
              "      <td>Notebook</td>\n",
              "      <td>15.6</td>\n",
              "      <td>Full HD 1920x1080</td>\n",
              "      <td>Intel Core i5 7200U 2.5GHz</td>\n",
              "      <td>8GB</td>\n",
              "      <td>256GB SSD</td>\n",
              "      <td>Intel HD Graphics 620</td>\n",
              "      <td>No OS</td>\n",
              "      <td>1.86kg</td>\n",
              "      <td>575.00</td>\n",
              "    </tr>\n",
              "    <tr>\n",
              "      <th>3</th>\n",
              "      <td>4</td>\n",
              "      <td>Apple</td>\n",
              "      <td>MacBook Pro</td>\n",
              "      <td>Ultrabook</td>\n",
              "      <td>15.4</td>\n",
              "      <td>IPS Panel Retina Display 2880x1800</td>\n",
              "      <td>Intel Core i7 2.7GHz</td>\n",
              "      <td>16GB</td>\n",
              "      <td>512GB SSD</td>\n",
              "      <td>AMD Radeon Pro 455</td>\n",
              "      <td>macOS</td>\n",
              "      <td>1.83kg</td>\n",
              "      <td>2537.45</td>\n",
              "    </tr>\n",
              "    <tr>\n",
              "      <th>4</th>\n",
              "      <td>5</td>\n",
              "      <td>Apple</td>\n",
              "      <td>MacBook Pro</td>\n",
              "      <td>Ultrabook</td>\n",
              "      <td>13.3</td>\n",
              "      <td>IPS Panel Retina Display 2560x1600</td>\n",
              "      <td>Intel Core i5 3.1GHz</td>\n",
              "      <td>8GB</td>\n",
              "      <td>256GB SSD</td>\n",
              "      <td>Intel Iris Plus Graphics 650</td>\n",
              "      <td>macOS</td>\n",
              "      <td>1.37kg</td>\n",
              "      <td>1803.60</td>\n",
              "    </tr>\n",
              "  </tbody>\n",
              "</table>\n",
              "</div>\n",
              "      <button class=\"colab-df-convert\" onclick=\"convertToInteractive('df-a3e561c4-7d6e-4c16-b75e-bbf473b9b13a')\"\n",
              "              title=\"Convert this dataframe to an interactive table.\"\n",
              "              style=\"display:none;\">\n",
              "        \n",
              "  <svg xmlns=\"http://www.w3.org/2000/svg\" height=\"24px\"viewBox=\"0 0 24 24\"\n",
              "       width=\"24px\">\n",
              "    <path d=\"M0 0h24v24H0V0z\" fill=\"none\"/>\n",
              "    <path d=\"M18.56 5.44l.94 2.06.94-2.06 2.06-.94-2.06-.94-.94-2.06-.94 2.06-2.06.94zm-11 1L8.5 8.5l.94-2.06 2.06-.94-2.06-.94L8.5 2.5l-.94 2.06-2.06.94zm10 10l.94 2.06.94-2.06 2.06-.94-2.06-.94-.94-2.06-.94 2.06-2.06.94z\"/><path d=\"M17.41 7.96l-1.37-1.37c-.4-.4-.92-.59-1.43-.59-.52 0-1.04.2-1.43.59L10.3 9.45l-7.72 7.72c-.78.78-.78 2.05 0 2.83L4 21.41c.39.39.9.59 1.41.59.51 0 1.02-.2 1.41-.59l7.78-7.78 2.81-2.81c.8-.78.8-2.07 0-2.86zM5.41 20L4 18.59l7.72-7.72 1.47 1.35L5.41 20z\"/>\n",
              "  </svg>\n",
              "      </button>\n",
              "      \n",
              "  <style>\n",
              "    .colab-df-container {\n",
              "      display:flex;\n",
              "      flex-wrap:wrap;\n",
              "      gap: 12px;\n",
              "    }\n",
              "\n",
              "    .colab-df-convert {\n",
              "      background-color: #E8F0FE;\n",
              "      border: none;\n",
              "      border-radius: 50%;\n",
              "      cursor: pointer;\n",
              "      display: none;\n",
              "      fill: #1967D2;\n",
              "      height: 32px;\n",
              "      padding: 0 0 0 0;\n",
              "      width: 32px;\n",
              "    }\n",
              "\n",
              "    .colab-df-convert:hover {\n",
              "      background-color: #E2EBFA;\n",
              "      box-shadow: 0px 1px 2px rgba(60, 64, 67, 0.3), 0px 1px 3px 1px rgba(60, 64, 67, 0.15);\n",
              "      fill: #174EA6;\n",
              "    }\n",
              "\n",
              "    [theme=dark] .colab-df-convert {\n",
              "      background-color: #3B4455;\n",
              "      fill: #D2E3FC;\n",
              "    }\n",
              "\n",
              "    [theme=dark] .colab-df-convert:hover {\n",
              "      background-color: #434B5C;\n",
              "      box-shadow: 0px 1px 3px 1px rgba(0, 0, 0, 0.15);\n",
              "      filter: drop-shadow(0px 1px 2px rgba(0, 0, 0, 0.3));\n",
              "      fill: #FFFFFF;\n",
              "    }\n",
              "  </style>\n",
              "\n",
              "      <script>\n",
              "        const buttonEl =\n",
              "          document.querySelector('#df-a3e561c4-7d6e-4c16-b75e-bbf473b9b13a button.colab-df-convert');\n",
              "        buttonEl.style.display =\n",
              "          google.colab.kernel.accessAllowed ? 'block' : 'none';\n",
              "\n",
              "        async function convertToInteractive(key) {\n",
              "          const element = document.querySelector('#df-a3e561c4-7d6e-4c16-b75e-bbf473b9b13a');\n",
              "          const dataTable =\n",
              "            await google.colab.kernel.invokeFunction('convertToInteractive',\n",
              "                                                     [key], {});\n",
              "          if (!dataTable) return;\n",
              "\n",
              "          const docLinkHtml = 'Like what you see? Visit the ' +\n",
              "            '<a target=\"_blank\" href=https://colab.research.google.com/notebooks/data_table.ipynb>data table notebook</a>'\n",
              "            + ' to learn more about interactive tables.';\n",
              "          element.innerHTML = '';\n",
              "          dataTable['output_type'] = 'display_data';\n",
              "          await google.colab.output.renderOutput(dataTable, element);\n",
              "          const docLink = document.createElement('div');\n",
              "          docLink.innerHTML = docLinkHtml;\n",
              "          element.appendChild(docLink);\n",
              "        }\n",
              "      </script>\n",
              "    </div>\n",
              "  </div>\n",
              "  "
            ]
          },
          "metadata": {},
          "execution_count": 82
        }
      ]
    },
    {
      "cell_type": "markdown",
      "source": [
        "**Check Unique Values**"
      ],
      "metadata": {
        "id": "53mSBO7iO6n4"
      },
      "id": "53mSBO7iO6n4"
    },
    {
      "cell_type": "code",
      "execution_count": 83,
      "id": "e6737f1c",
      "metadata": {
        "colab": {
          "base_uri": "https://localhost:8080/"
        },
        "id": "e6737f1c",
        "outputId": "ca05ca31-a24b-434f-dce2-7be82eae63bb"
      },
      "outputs": [
        {
          "output_type": "execute_result",
          "data": {
            "text/plain": [
              "laptop_ID           1303\n",
              "Company               19\n",
              "Product              618\n",
              "TypeName               6\n",
              "Inches                18\n",
              "ScreenResolution      40\n",
              "Cpu                  118\n",
              "Ram                    9\n",
              "Memory                39\n",
              "Gpu                  110\n",
              "OpSys                  9\n",
              "Weight               179\n",
              "Price_euros          791\n",
              "dtype: int64"
            ]
          },
          "metadata": {},
          "execution_count": 83
        }
      ],
      "source": [
        "df.nunique()"
      ]
    },
    {
      "cell_type": "code",
      "source": [
        "df.info()"
      ],
      "metadata": {
        "colab": {
          "base_uri": "https://localhost:8080/"
        },
        "id": "F5YRpKMS1tFH",
        "outputId": "75d8dde7-5903-46d0-9f33-4a8a5a02b17a"
      },
      "id": "F5YRpKMS1tFH",
      "execution_count": 84,
      "outputs": [
        {
          "output_type": "stream",
          "name": "stdout",
          "text": [
            "<class 'pandas.core.frame.DataFrame'>\n",
            "RangeIndex: 1303 entries, 0 to 1302\n",
            "Data columns (total 13 columns):\n",
            " #   Column            Non-Null Count  Dtype  \n",
            "---  ------            --------------  -----  \n",
            " 0   laptop_ID         1303 non-null   int64  \n",
            " 1   Company           1303 non-null   object \n",
            " 2   Product           1303 non-null   object \n",
            " 3   TypeName          1303 non-null   object \n",
            " 4   Inches            1303 non-null   float64\n",
            " 5   ScreenResolution  1303 non-null   object \n",
            " 6   Cpu               1303 non-null   object \n",
            " 7   Ram               1303 non-null   object \n",
            " 8   Memory            1303 non-null   object \n",
            " 9   Gpu               1303 non-null   object \n",
            " 10  OpSys             1303 non-null   object \n",
            " 11  Weight            1303 non-null   object \n",
            " 12  Price_euros       1303 non-null   float64\n",
            "dtypes: float64(2), int64(1), object(10)\n",
            "memory usage: 132.5+ KB\n"
          ]
        }
      ]
    },
    {
      "cell_type": "markdown",
      "source": [
        "**Check Missing Values**"
      ],
      "metadata": {
        "id": "wQ5sLLLDPC5H"
      },
      "id": "wQ5sLLLDPC5H"
    },
    {
      "cell_type": "code",
      "source": [
        "#Handling Missing Value\n",
        "\n",
        "missing_value=df.isnull().sum().sort_values(ascending=False)\n",
        "percent=(df.isnull().sum()*100/df.isnull().count()).sort_values(ascending=False)\n",
        "missing_data=pd.concat([missing_value,percent],axis=1,keys=['missing','percent'])\n",
        "missing_data.head(40)"
      ],
      "metadata": {
        "colab": {
          "base_uri": "https://localhost:8080/",
          "height": 457
        },
        "id": "HXm4Dd_uPHyG",
        "outputId": "e013e7f1-0833-46f3-8129-503454a3632e"
      },
      "id": "HXm4Dd_uPHyG",
      "execution_count": 85,
      "outputs": [
        {
          "output_type": "execute_result",
          "data": {
            "text/plain": [
              "                  missing  percent\n",
              "laptop_ID               0      0.0\n",
              "Company                 0      0.0\n",
              "Product                 0      0.0\n",
              "TypeName                0      0.0\n",
              "Inches                  0      0.0\n",
              "ScreenResolution        0      0.0\n",
              "Cpu                     0      0.0\n",
              "Ram                     0      0.0\n",
              "Memory                  0      0.0\n",
              "Gpu                     0      0.0\n",
              "OpSys                   0      0.0\n",
              "Weight                  0      0.0\n",
              "Price_euros             0      0.0"
            ],
            "text/html": [
              "\n",
              "  <div id=\"df-c68aee6f-183b-4f18-a8ea-302f2e167e77\">\n",
              "    <div class=\"colab-df-container\">\n",
              "      <div>\n",
              "<style scoped>\n",
              "    .dataframe tbody tr th:only-of-type {\n",
              "        vertical-align: middle;\n",
              "    }\n",
              "\n",
              "    .dataframe tbody tr th {\n",
              "        vertical-align: top;\n",
              "    }\n",
              "\n",
              "    .dataframe thead th {\n",
              "        text-align: right;\n",
              "    }\n",
              "</style>\n",
              "<table border=\"1\" class=\"dataframe\">\n",
              "  <thead>\n",
              "    <tr style=\"text-align: right;\">\n",
              "      <th></th>\n",
              "      <th>missing</th>\n",
              "      <th>percent</th>\n",
              "    </tr>\n",
              "  </thead>\n",
              "  <tbody>\n",
              "    <tr>\n",
              "      <th>laptop_ID</th>\n",
              "      <td>0</td>\n",
              "      <td>0.0</td>\n",
              "    </tr>\n",
              "    <tr>\n",
              "      <th>Company</th>\n",
              "      <td>0</td>\n",
              "      <td>0.0</td>\n",
              "    </tr>\n",
              "    <tr>\n",
              "      <th>Product</th>\n",
              "      <td>0</td>\n",
              "      <td>0.0</td>\n",
              "    </tr>\n",
              "    <tr>\n",
              "      <th>TypeName</th>\n",
              "      <td>0</td>\n",
              "      <td>0.0</td>\n",
              "    </tr>\n",
              "    <tr>\n",
              "      <th>Inches</th>\n",
              "      <td>0</td>\n",
              "      <td>0.0</td>\n",
              "    </tr>\n",
              "    <tr>\n",
              "      <th>ScreenResolution</th>\n",
              "      <td>0</td>\n",
              "      <td>0.0</td>\n",
              "    </tr>\n",
              "    <tr>\n",
              "      <th>Cpu</th>\n",
              "      <td>0</td>\n",
              "      <td>0.0</td>\n",
              "    </tr>\n",
              "    <tr>\n",
              "      <th>Ram</th>\n",
              "      <td>0</td>\n",
              "      <td>0.0</td>\n",
              "    </tr>\n",
              "    <tr>\n",
              "      <th>Memory</th>\n",
              "      <td>0</td>\n",
              "      <td>0.0</td>\n",
              "    </tr>\n",
              "    <tr>\n",
              "      <th>Gpu</th>\n",
              "      <td>0</td>\n",
              "      <td>0.0</td>\n",
              "    </tr>\n",
              "    <tr>\n",
              "      <th>OpSys</th>\n",
              "      <td>0</td>\n",
              "      <td>0.0</td>\n",
              "    </tr>\n",
              "    <tr>\n",
              "      <th>Weight</th>\n",
              "      <td>0</td>\n",
              "      <td>0.0</td>\n",
              "    </tr>\n",
              "    <tr>\n",
              "      <th>Price_euros</th>\n",
              "      <td>0</td>\n",
              "      <td>0.0</td>\n",
              "    </tr>\n",
              "  </tbody>\n",
              "</table>\n",
              "</div>\n",
              "      <button class=\"colab-df-convert\" onclick=\"convertToInteractive('df-c68aee6f-183b-4f18-a8ea-302f2e167e77')\"\n",
              "              title=\"Convert this dataframe to an interactive table.\"\n",
              "              style=\"display:none;\">\n",
              "        \n",
              "  <svg xmlns=\"http://www.w3.org/2000/svg\" height=\"24px\"viewBox=\"0 0 24 24\"\n",
              "       width=\"24px\">\n",
              "    <path d=\"M0 0h24v24H0V0z\" fill=\"none\"/>\n",
              "    <path d=\"M18.56 5.44l.94 2.06.94-2.06 2.06-.94-2.06-.94-.94-2.06-.94 2.06-2.06.94zm-11 1L8.5 8.5l.94-2.06 2.06-.94-2.06-.94L8.5 2.5l-.94 2.06-2.06.94zm10 10l.94 2.06.94-2.06 2.06-.94-2.06-.94-.94-2.06-.94 2.06-2.06.94z\"/><path d=\"M17.41 7.96l-1.37-1.37c-.4-.4-.92-.59-1.43-.59-.52 0-1.04.2-1.43.59L10.3 9.45l-7.72 7.72c-.78.78-.78 2.05 0 2.83L4 21.41c.39.39.9.59 1.41.59.51 0 1.02-.2 1.41-.59l7.78-7.78 2.81-2.81c.8-.78.8-2.07 0-2.86zM5.41 20L4 18.59l7.72-7.72 1.47 1.35L5.41 20z\"/>\n",
              "  </svg>\n",
              "      </button>\n",
              "      \n",
              "  <style>\n",
              "    .colab-df-container {\n",
              "      display:flex;\n",
              "      flex-wrap:wrap;\n",
              "      gap: 12px;\n",
              "    }\n",
              "\n",
              "    .colab-df-convert {\n",
              "      background-color: #E8F0FE;\n",
              "      border: none;\n",
              "      border-radius: 50%;\n",
              "      cursor: pointer;\n",
              "      display: none;\n",
              "      fill: #1967D2;\n",
              "      height: 32px;\n",
              "      padding: 0 0 0 0;\n",
              "      width: 32px;\n",
              "    }\n",
              "\n",
              "    .colab-df-convert:hover {\n",
              "      background-color: #E2EBFA;\n",
              "      box-shadow: 0px 1px 2px rgba(60, 64, 67, 0.3), 0px 1px 3px 1px rgba(60, 64, 67, 0.15);\n",
              "      fill: #174EA6;\n",
              "    }\n",
              "\n",
              "    [theme=dark] .colab-df-convert {\n",
              "      background-color: #3B4455;\n",
              "      fill: #D2E3FC;\n",
              "    }\n",
              "\n",
              "    [theme=dark] .colab-df-convert:hover {\n",
              "      background-color: #434B5C;\n",
              "      box-shadow: 0px 1px 3px 1px rgba(0, 0, 0, 0.15);\n",
              "      filter: drop-shadow(0px 1px 2px rgba(0, 0, 0, 0.3));\n",
              "      fill: #FFFFFF;\n",
              "    }\n",
              "  </style>\n",
              "\n",
              "      <script>\n",
              "        const buttonEl =\n",
              "          document.querySelector('#df-c68aee6f-183b-4f18-a8ea-302f2e167e77 button.colab-df-convert');\n",
              "        buttonEl.style.display =\n",
              "          google.colab.kernel.accessAllowed ? 'block' : 'none';\n",
              "\n",
              "        async function convertToInteractive(key) {\n",
              "          const element = document.querySelector('#df-c68aee6f-183b-4f18-a8ea-302f2e167e77');\n",
              "          const dataTable =\n",
              "            await google.colab.kernel.invokeFunction('convertToInteractive',\n",
              "                                                     [key], {});\n",
              "          if (!dataTable) return;\n",
              "\n",
              "          const docLinkHtml = 'Like what you see? Visit the ' +\n",
              "            '<a target=\"_blank\" href=https://colab.research.google.com/notebooks/data_table.ipynb>data table notebook</a>'\n",
              "            + ' to learn more about interactive tables.';\n",
              "          element.innerHTML = '';\n",
              "          dataTable['output_type'] = 'display_data';\n",
              "          await google.colab.output.renderOutput(dataTable, element);\n",
              "          const docLink = document.createElement('div');\n",
              "          docLink.innerHTML = docLinkHtml;\n",
              "          element.appendChild(docLink);\n",
              "        }\n",
              "      </script>\n",
              "    </div>\n",
              "  </div>\n",
              "  "
            ]
          },
          "metadata": {},
          "execution_count": 85
        }
      ]
    },
    {
      "cell_type": "markdown",
      "source": [
        "**Drop Unnecessary features**"
      ],
      "metadata": {
        "id": "-_mvfMIpS9NM"
      },
      "id": "-_mvfMIpS9NM"
    },
    {
      "cell_type": "code",
      "execution_count": 86,
      "id": "56f898c2",
      "metadata": {
        "id": "56f898c2"
      },
      "outputs": [],
      "source": [
        "df = df.drop('laptop_ID', axis=1)"
      ]
    },
    {
      "cell_type": "code",
      "source": [
        "df.shape"
      ],
      "metadata": {
        "colab": {
          "base_uri": "https://localhost:8080/"
        },
        "id": "RBHPx1624HPG",
        "outputId": "b704cacb-fe9a-49c8-f542-cba5bf572c16"
      },
      "id": "RBHPx1624HPG",
      "execution_count": 45,
      "outputs": [
        {
          "output_type": "execute_result",
          "data": {
            "text/plain": [
              "(1303, 12)"
            ]
          },
          "metadata": {},
          "execution_count": 45
        }
      ]
    },
    {
      "cell_type": "code",
      "source": [
        "df.drop_duplicates(inplace=True)\n",
        "df.shape\n"
      ],
      "metadata": {
        "colab": {
          "base_uri": "https://localhost:8080/"
        },
        "id": "B_AHTE764DsK",
        "outputId": "28d753b1-6c0b-4af3-c5d8-7e8b94fceeb5"
      },
      "id": "B_AHTE764DsK",
      "execution_count": 87,
      "outputs": [
        {
          "output_type": "execute_result",
          "data": {
            "text/plain": [
              "(1275, 12)"
            ]
          },
          "metadata": {},
          "execution_count": 87
        }
      ]
    },
    {
      "cell_type": "code",
      "execution_count": 88,
      "id": "5913708b",
      "metadata": {
        "colab": {
          "base_uri": "https://localhost:8080/",
          "height": 206
        },
        "id": "5913708b",
        "outputId": "49189537-6239-4b2f-9bb2-f39192ec7b09"
      },
      "outputs": [
        {
          "output_type": "execute_result",
          "data": {
            "text/plain": [
              "  Company      Product   TypeName  Inches                    ScreenResolution  \\\n",
              "0   Apple  MacBook Pro  Ultrabook    13.3  IPS Panel Retina Display 2560x1600   \n",
              "1   Apple  Macbook Air  Ultrabook    13.3                            1440x900   \n",
              "2      HP       250 G6   Notebook    15.6                   Full HD 1920x1080   \n",
              "3   Apple  MacBook Pro  Ultrabook    15.4  IPS Panel Retina Display 2880x1800   \n",
              "4   Apple  MacBook Pro  Ultrabook    13.3  IPS Panel Retina Display 2560x1600   \n",
              "\n",
              "                          Cpu   Ram               Memory  \\\n",
              "0        Intel Core i5 2.3GHz   8GB            128GB SSD   \n",
              "1        Intel Core i5 1.8GHz   8GB  128GB Flash Storage   \n",
              "2  Intel Core i5 7200U 2.5GHz   8GB            256GB SSD   \n",
              "3        Intel Core i7 2.7GHz  16GB            512GB SSD   \n",
              "4        Intel Core i5 3.1GHz   8GB            256GB SSD   \n",
              "\n",
              "                            Gpu  OpSys  Weight  Price_euros  \n",
              "0  Intel Iris Plus Graphics 640  macOS  1.37kg      1339.69  \n",
              "1        Intel HD Graphics 6000  macOS  1.34kg       898.94  \n",
              "2         Intel HD Graphics 620  No OS  1.86kg       575.00  \n",
              "3            AMD Radeon Pro 455  macOS  1.83kg      2537.45  \n",
              "4  Intel Iris Plus Graphics 650  macOS  1.37kg      1803.60  "
            ],
            "text/html": [
              "\n",
              "  <div id=\"df-a6e78817-6e5d-434f-9ca5-bff28c6c1fd9\">\n",
              "    <div class=\"colab-df-container\">\n",
              "      <div>\n",
              "<style scoped>\n",
              "    .dataframe tbody tr th:only-of-type {\n",
              "        vertical-align: middle;\n",
              "    }\n",
              "\n",
              "    .dataframe tbody tr th {\n",
              "        vertical-align: top;\n",
              "    }\n",
              "\n",
              "    .dataframe thead th {\n",
              "        text-align: right;\n",
              "    }\n",
              "</style>\n",
              "<table border=\"1\" class=\"dataframe\">\n",
              "  <thead>\n",
              "    <tr style=\"text-align: right;\">\n",
              "      <th></th>\n",
              "      <th>Company</th>\n",
              "      <th>Product</th>\n",
              "      <th>TypeName</th>\n",
              "      <th>Inches</th>\n",
              "      <th>ScreenResolution</th>\n",
              "      <th>Cpu</th>\n",
              "      <th>Ram</th>\n",
              "      <th>Memory</th>\n",
              "      <th>Gpu</th>\n",
              "      <th>OpSys</th>\n",
              "      <th>Weight</th>\n",
              "      <th>Price_euros</th>\n",
              "    </tr>\n",
              "  </thead>\n",
              "  <tbody>\n",
              "    <tr>\n",
              "      <th>0</th>\n",
              "      <td>Apple</td>\n",
              "      <td>MacBook Pro</td>\n",
              "      <td>Ultrabook</td>\n",
              "      <td>13.3</td>\n",
              "      <td>IPS Panel Retina Display 2560x1600</td>\n",
              "      <td>Intel Core i5 2.3GHz</td>\n",
              "      <td>8GB</td>\n",
              "      <td>128GB SSD</td>\n",
              "      <td>Intel Iris Plus Graphics 640</td>\n",
              "      <td>macOS</td>\n",
              "      <td>1.37kg</td>\n",
              "      <td>1339.69</td>\n",
              "    </tr>\n",
              "    <tr>\n",
              "      <th>1</th>\n",
              "      <td>Apple</td>\n",
              "      <td>Macbook Air</td>\n",
              "      <td>Ultrabook</td>\n",
              "      <td>13.3</td>\n",
              "      <td>1440x900</td>\n",
              "      <td>Intel Core i5 1.8GHz</td>\n",
              "      <td>8GB</td>\n",
              "      <td>128GB Flash Storage</td>\n",
              "      <td>Intel HD Graphics 6000</td>\n",
              "      <td>macOS</td>\n",
              "      <td>1.34kg</td>\n",
              "      <td>898.94</td>\n",
              "    </tr>\n",
              "    <tr>\n",
              "      <th>2</th>\n",
              "      <td>HP</td>\n",
              "      <td>250 G6</td>\n",
              "      <td>Notebook</td>\n",
              "      <td>15.6</td>\n",
              "      <td>Full HD 1920x1080</td>\n",
              "      <td>Intel Core i5 7200U 2.5GHz</td>\n",
              "      <td>8GB</td>\n",
              "      <td>256GB SSD</td>\n",
              "      <td>Intel HD Graphics 620</td>\n",
              "      <td>No OS</td>\n",
              "      <td>1.86kg</td>\n",
              "      <td>575.00</td>\n",
              "    </tr>\n",
              "    <tr>\n",
              "      <th>3</th>\n",
              "      <td>Apple</td>\n",
              "      <td>MacBook Pro</td>\n",
              "      <td>Ultrabook</td>\n",
              "      <td>15.4</td>\n",
              "      <td>IPS Panel Retina Display 2880x1800</td>\n",
              "      <td>Intel Core i7 2.7GHz</td>\n",
              "      <td>16GB</td>\n",
              "      <td>512GB SSD</td>\n",
              "      <td>AMD Radeon Pro 455</td>\n",
              "      <td>macOS</td>\n",
              "      <td>1.83kg</td>\n",
              "      <td>2537.45</td>\n",
              "    </tr>\n",
              "    <tr>\n",
              "      <th>4</th>\n",
              "      <td>Apple</td>\n",
              "      <td>MacBook Pro</td>\n",
              "      <td>Ultrabook</td>\n",
              "      <td>13.3</td>\n",
              "      <td>IPS Panel Retina Display 2560x1600</td>\n",
              "      <td>Intel Core i5 3.1GHz</td>\n",
              "      <td>8GB</td>\n",
              "      <td>256GB SSD</td>\n",
              "      <td>Intel Iris Plus Graphics 650</td>\n",
              "      <td>macOS</td>\n",
              "      <td>1.37kg</td>\n",
              "      <td>1803.60</td>\n",
              "    </tr>\n",
              "  </tbody>\n",
              "</table>\n",
              "</div>\n",
              "      <button class=\"colab-df-convert\" onclick=\"convertToInteractive('df-a6e78817-6e5d-434f-9ca5-bff28c6c1fd9')\"\n",
              "              title=\"Convert this dataframe to an interactive table.\"\n",
              "              style=\"display:none;\">\n",
              "        \n",
              "  <svg xmlns=\"http://www.w3.org/2000/svg\" height=\"24px\"viewBox=\"0 0 24 24\"\n",
              "       width=\"24px\">\n",
              "    <path d=\"M0 0h24v24H0V0z\" fill=\"none\"/>\n",
              "    <path d=\"M18.56 5.44l.94 2.06.94-2.06 2.06-.94-2.06-.94-.94-2.06-.94 2.06-2.06.94zm-11 1L8.5 8.5l.94-2.06 2.06-.94-2.06-.94L8.5 2.5l-.94 2.06-2.06.94zm10 10l.94 2.06.94-2.06 2.06-.94-2.06-.94-.94-2.06-.94 2.06-2.06.94z\"/><path d=\"M17.41 7.96l-1.37-1.37c-.4-.4-.92-.59-1.43-.59-.52 0-1.04.2-1.43.59L10.3 9.45l-7.72 7.72c-.78.78-.78 2.05 0 2.83L4 21.41c.39.39.9.59 1.41.59.51 0 1.02-.2 1.41-.59l7.78-7.78 2.81-2.81c.8-.78.8-2.07 0-2.86zM5.41 20L4 18.59l7.72-7.72 1.47 1.35L5.41 20z\"/>\n",
              "  </svg>\n",
              "      </button>\n",
              "      \n",
              "  <style>\n",
              "    .colab-df-container {\n",
              "      display:flex;\n",
              "      flex-wrap:wrap;\n",
              "      gap: 12px;\n",
              "    }\n",
              "\n",
              "    .colab-df-convert {\n",
              "      background-color: #E8F0FE;\n",
              "      border: none;\n",
              "      border-radius: 50%;\n",
              "      cursor: pointer;\n",
              "      display: none;\n",
              "      fill: #1967D2;\n",
              "      height: 32px;\n",
              "      padding: 0 0 0 0;\n",
              "      width: 32px;\n",
              "    }\n",
              "\n",
              "    .colab-df-convert:hover {\n",
              "      background-color: #E2EBFA;\n",
              "      box-shadow: 0px 1px 2px rgba(60, 64, 67, 0.3), 0px 1px 3px 1px rgba(60, 64, 67, 0.15);\n",
              "      fill: #174EA6;\n",
              "    }\n",
              "\n",
              "    [theme=dark] .colab-df-convert {\n",
              "      background-color: #3B4455;\n",
              "      fill: #D2E3FC;\n",
              "    }\n",
              "\n",
              "    [theme=dark] .colab-df-convert:hover {\n",
              "      background-color: #434B5C;\n",
              "      box-shadow: 0px 1px 3px 1px rgba(0, 0, 0, 0.15);\n",
              "      filter: drop-shadow(0px 1px 2px rgba(0, 0, 0, 0.3));\n",
              "      fill: #FFFFFF;\n",
              "    }\n",
              "  </style>\n",
              "\n",
              "      <script>\n",
              "        const buttonEl =\n",
              "          document.querySelector('#df-a6e78817-6e5d-434f-9ca5-bff28c6c1fd9 button.colab-df-convert');\n",
              "        buttonEl.style.display =\n",
              "          google.colab.kernel.accessAllowed ? 'block' : 'none';\n",
              "\n",
              "        async function convertToInteractive(key) {\n",
              "          const element = document.querySelector('#df-a6e78817-6e5d-434f-9ca5-bff28c6c1fd9');\n",
              "          const dataTable =\n",
              "            await google.colab.kernel.invokeFunction('convertToInteractive',\n",
              "                                                     [key], {});\n",
              "          if (!dataTable) return;\n",
              "\n",
              "          const docLinkHtml = 'Like what you see? Visit the ' +\n",
              "            '<a target=\"_blank\" href=https://colab.research.google.com/notebooks/data_table.ipynb>data table notebook</a>'\n",
              "            + ' to learn more about interactive tables.';\n",
              "          element.innerHTML = '';\n",
              "          dataTable['output_type'] = 'display_data';\n",
              "          await google.colab.output.renderOutput(dataTable, element);\n",
              "          const docLink = document.createElement('div');\n",
              "          docLink.innerHTML = docLinkHtml;\n",
              "          element.appendChild(docLink);\n",
              "        }\n",
              "      </script>\n",
              "    </div>\n",
              "  </div>\n",
              "  "
            ]
          },
          "metadata": {},
          "execution_count": 88
        }
      ],
      "source": [
        "df.head() # y = df[['Price_euros']]"
      ]
    },
    {
      "cell_type": "markdown",
      "id": "b80e358c",
      "metadata": {
        "id": "b80e358c"
      },
      "source": [
        "# Preprocessing"
      ]
    },
    {
      "cell_type": "code",
      "execution_count": 89,
      "id": "ab97d92b",
      "metadata": {
        "id": "ab97d92b"
      },
      "outputs": [],
      "source": [
        "df[\"Weight\"] = df[\"Weight\"].str.replace(\"kg\",\"\")\n",
        "df[\"Weight\"] = pd.to_numeric(df[\"Weight\"])\n",
        "df[\"Ram\"] = df[\"Ram\"].apply(lambda x : str(x).replace(\"GB\",\"\")).astype(int)\n"
      ]
    },
    {
      "cell_type": "code",
      "execution_count": 90,
      "id": "c672b4dd",
      "metadata": {
        "colab": {
          "base_uri": "https://localhost:8080/",
          "height": 206
        },
        "id": "c672b4dd",
        "outputId": "7f3898fa-0500-4518-860a-5f0a09963758"
      },
      "outputs": [
        {
          "output_type": "execute_result",
          "data": {
            "text/plain": [
              "  Company      Product   TypeName  Inches                    ScreenResolution  \\\n",
              "0   Apple  MacBook Pro  Ultrabook    13.3  IPS Panel Retina Display 2560x1600   \n",
              "1   Apple  Macbook Air  Ultrabook    13.3                            1440x900   \n",
              "2      HP       250 G6   Notebook    15.6                   Full HD 1920x1080   \n",
              "3   Apple  MacBook Pro  Ultrabook    15.4  IPS Panel Retina Display 2880x1800   \n",
              "4   Apple  MacBook Pro  Ultrabook    13.3  IPS Panel Retina Display 2560x1600   \n",
              "\n",
              "                          Cpu  Ram               Memory  \\\n",
              "0        Intel Core i5 2.3GHz    8            128GB SSD   \n",
              "1        Intel Core i5 1.8GHz    8  128GB Flash Storage   \n",
              "2  Intel Core i5 7200U 2.5GHz    8            256GB SSD   \n",
              "3        Intel Core i7 2.7GHz   16            512GB SSD   \n",
              "4        Intel Core i5 3.1GHz    8            256GB SSD   \n",
              "\n",
              "                            Gpu  OpSys  Weight  Price_euros  \n",
              "0  Intel Iris Plus Graphics 640  macOS    1.37      1339.69  \n",
              "1        Intel HD Graphics 6000  macOS    1.34       898.94  \n",
              "2         Intel HD Graphics 620  No OS    1.86       575.00  \n",
              "3            AMD Radeon Pro 455  macOS    1.83      2537.45  \n",
              "4  Intel Iris Plus Graphics 650  macOS    1.37      1803.60  "
            ],
            "text/html": [
              "\n",
              "  <div id=\"df-849bba34-dff8-4373-952d-ba6264a79a3d\">\n",
              "    <div class=\"colab-df-container\">\n",
              "      <div>\n",
              "<style scoped>\n",
              "    .dataframe tbody tr th:only-of-type {\n",
              "        vertical-align: middle;\n",
              "    }\n",
              "\n",
              "    .dataframe tbody tr th {\n",
              "        vertical-align: top;\n",
              "    }\n",
              "\n",
              "    .dataframe thead th {\n",
              "        text-align: right;\n",
              "    }\n",
              "</style>\n",
              "<table border=\"1\" class=\"dataframe\">\n",
              "  <thead>\n",
              "    <tr style=\"text-align: right;\">\n",
              "      <th></th>\n",
              "      <th>Company</th>\n",
              "      <th>Product</th>\n",
              "      <th>TypeName</th>\n",
              "      <th>Inches</th>\n",
              "      <th>ScreenResolution</th>\n",
              "      <th>Cpu</th>\n",
              "      <th>Ram</th>\n",
              "      <th>Memory</th>\n",
              "      <th>Gpu</th>\n",
              "      <th>OpSys</th>\n",
              "      <th>Weight</th>\n",
              "      <th>Price_euros</th>\n",
              "    </tr>\n",
              "  </thead>\n",
              "  <tbody>\n",
              "    <tr>\n",
              "      <th>0</th>\n",
              "      <td>Apple</td>\n",
              "      <td>MacBook Pro</td>\n",
              "      <td>Ultrabook</td>\n",
              "      <td>13.3</td>\n",
              "      <td>IPS Panel Retina Display 2560x1600</td>\n",
              "      <td>Intel Core i5 2.3GHz</td>\n",
              "      <td>8</td>\n",
              "      <td>128GB SSD</td>\n",
              "      <td>Intel Iris Plus Graphics 640</td>\n",
              "      <td>macOS</td>\n",
              "      <td>1.37</td>\n",
              "      <td>1339.69</td>\n",
              "    </tr>\n",
              "    <tr>\n",
              "      <th>1</th>\n",
              "      <td>Apple</td>\n",
              "      <td>Macbook Air</td>\n",
              "      <td>Ultrabook</td>\n",
              "      <td>13.3</td>\n",
              "      <td>1440x900</td>\n",
              "      <td>Intel Core i5 1.8GHz</td>\n",
              "      <td>8</td>\n",
              "      <td>128GB Flash Storage</td>\n",
              "      <td>Intel HD Graphics 6000</td>\n",
              "      <td>macOS</td>\n",
              "      <td>1.34</td>\n",
              "      <td>898.94</td>\n",
              "    </tr>\n",
              "    <tr>\n",
              "      <th>2</th>\n",
              "      <td>HP</td>\n",
              "      <td>250 G6</td>\n",
              "      <td>Notebook</td>\n",
              "      <td>15.6</td>\n",
              "      <td>Full HD 1920x1080</td>\n",
              "      <td>Intel Core i5 7200U 2.5GHz</td>\n",
              "      <td>8</td>\n",
              "      <td>256GB SSD</td>\n",
              "      <td>Intel HD Graphics 620</td>\n",
              "      <td>No OS</td>\n",
              "      <td>1.86</td>\n",
              "      <td>575.00</td>\n",
              "    </tr>\n",
              "    <tr>\n",
              "      <th>3</th>\n",
              "      <td>Apple</td>\n",
              "      <td>MacBook Pro</td>\n",
              "      <td>Ultrabook</td>\n",
              "      <td>15.4</td>\n",
              "      <td>IPS Panel Retina Display 2880x1800</td>\n",
              "      <td>Intel Core i7 2.7GHz</td>\n",
              "      <td>16</td>\n",
              "      <td>512GB SSD</td>\n",
              "      <td>AMD Radeon Pro 455</td>\n",
              "      <td>macOS</td>\n",
              "      <td>1.83</td>\n",
              "      <td>2537.45</td>\n",
              "    </tr>\n",
              "    <tr>\n",
              "      <th>4</th>\n",
              "      <td>Apple</td>\n",
              "      <td>MacBook Pro</td>\n",
              "      <td>Ultrabook</td>\n",
              "      <td>13.3</td>\n",
              "      <td>IPS Panel Retina Display 2560x1600</td>\n",
              "      <td>Intel Core i5 3.1GHz</td>\n",
              "      <td>8</td>\n",
              "      <td>256GB SSD</td>\n",
              "      <td>Intel Iris Plus Graphics 650</td>\n",
              "      <td>macOS</td>\n",
              "      <td>1.37</td>\n",
              "      <td>1803.60</td>\n",
              "    </tr>\n",
              "  </tbody>\n",
              "</table>\n",
              "</div>\n",
              "      <button class=\"colab-df-convert\" onclick=\"convertToInteractive('df-849bba34-dff8-4373-952d-ba6264a79a3d')\"\n",
              "              title=\"Convert this dataframe to an interactive table.\"\n",
              "              style=\"display:none;\">\n",
              "        \n",
              "  <svg xmlns=\"http://www.w3.org/2000/svg\" height=\"24px\"viewBox=\"0 0 24 24\"\n",
              "       width=\"24px\">\n",
              "    <path d=\"M0 0h24v24H0V0z\" fill=\"none\"/>\n",
              "    <path d=\"M18.56 5.44l.94 2.06.94-2.06 2.06-.94-2.06-.94-.94-2.06-.94 2.06-2.06.94zm-11 1L8.5 8.5l.94-2.06 2.06-.94-2.06-.94L8.5 2.5l-.94 2.06-2.06.94zm10 10l.94 2.06.94-2.06 2.06-.94-2.06-.94-.94-2.06-.94 2.06-2.06.94z\"/><path d=\"M17.41 7.96l-1.37-1.37c-.4-.4-.92-.59-1.43-.59-.52 0-1.04.2-1.43.59L10.3 9.45l-7.72 7.72c-.78.78-.78 2.05 0 2.83L4 21.41c.39.39.9.59 1.41.59.51 0 1.02-.2 1.41-.59l7.78-7.78 2.81-2.81c.8-.78.8-2.07 0-2.86zM5.41 20L4 18.59l7.72-7.72 1.47 1.35L5.41 20z\"/>\n",
              "  </svg>\n",
              "      </button>\n",
              "      \n",
              "  <style>\n",
              "    .colab-df-container {\n",
              "      display:flex;\n",
              "      flex-wrap:wrap;\n",
              "      gap: 12px;\n",
              "    }\n",
              "\n",
              "    .colab-df-convert {\n",
              "      background-color: #E8F0FE;\n",
              "      border: none;\n",
              "      border-radius: 50%;\n",
              "      cursor: pointer;\n",
              "      display: none;\n",
              "      fill: #1967D2;\n",
              "      height: 32px;\n",
              "      padding: 0 0 0 0;\n",
              "      width: 32px;\n",
              "    }\n",
              "\n",
              "    .colab-df-convert:hover {\n",
              "      background-color: #E2EBFA;\n",
              "      box-shadow: 0px 1px 2px rgba(60, 64, 67, 0.3), 0px 1px 3px 1px rgba(60, 64, 67, 0.15);\n",
              "      fill: #174EA6;\n",
              "    }\n",
              "\n",
              "    [theme=dark] .colab-df-convert {\n",
              "      background-color: #3B4455;\n",
              "      fill: #D2E3FC;\n",
              "    }\n",
              "\n",
              "    [theme=dark] .colab-df-convert:hover {\n",
              "      background-color: #434B5C;\n",
              "      box-shadow: 0px 1px 3px 1px rgba(0, 0, 0, 0.15);\n",
              "      filter: drop-shadow(0px 1px 2px rgba(0, 0, 0, 0.3));\n",
              "      fill: #FFFFFF;\n",
              "    }\n",
              "  </style>\n",
              "\n",
              "      <script>\n",
              "        const buttonEl =\n",
              "          document.querySelector('#df-849bba34-dff8-4373-952d-ba6264a79a3d button.colab-df-convert');\n",
              "        buttonEl.style.display =\n",
              "          google.colab.kernel.accessAllowed ? 'block' : 'none';\n",
              "\n",
              "        async function convertToInteractive(key) {\n",
              "          const element = document.querySelector('#df-849bba34-dff8-4373-952d-ba6264a79a3d');\n",
              "          const dataTable =\n",
              "            await google.colab.kernel.invokeFunction('convertToInteractive',\n",
              "                                                     [key], {});\n",
              "          if (!dataTable) return;\n",
              "\n",
              "          const docLinkHtml = 'Like what you see? Visit the ' +\n",
              "            '<a target=\"_blank\" href=https://colab.research.google.com/notebooks/data_table.ipynb>data table notebook</a>'\n",
              "            + ' to learn more about interactive tables.';\n",
              "          element.innerHTML = '';\n",
              "          dataTable['output_type'] = 'display_data';\n",
              "          await google.colab.output.renderOutput(dataTable, element);\n",
              "          const docLink = document.createElement('div');\n",
              "          docLink.innerHTML = docLinkHtml;\n",
              "          element.appendChild(docLink);\n",
              "        }\n",
              "      </script>\n",
              "    </div>\n",
              "  </div>\n",
              "  "
            ]
          },
          "metadata": {},
          "execution_count": 90
        }
      ],
      "source": [
        "df.head()"
      ]
    },
    {
      "cell_type": "code",
      "source": [
        "sns.lmplot(x=\"Weight\", y=\"Price_euros\", hue='Company', data=df)"
      ],
      "metadata": {
        "colab": {
          "base_uri": "https://localhost:8080/",
          "height": 365
        },
        "id": "81No2dV5MekG",
        "outputId": "c35ff336-67dd-4f7c-b2af-901ae4587375"
      },
      "id": "81No2dV5MekG",
      "execution_count": 95,
      "outputs": [
        {
          "output_type": "display_data",
          "data": {
            "text/plain": [
              "<Figure size 456.475x360 with 1 Axes>"
            ],
            "image/png": "[encoded data removed]"
          },
          "metadata": {}
        }
      ]
    },
    {
      "cell_type": "code",
      "execution_count": 15,
      "id": "8b5a5e65",
      "metadata": {
        "id": "8b5a5e65"
      },
      "outputs": [],
      "source": [
        "df_product_price = df.groupby(\"Company\")[\"Price_euros\"].mean()"
      ]
    },
    {
      "cell_type": "code",
      "execution_count": 16,
      "id": "6ea174db",
      "metadata": {
        "colab": {
          "base_uri": "https://localhost:8080/"
        },
        "id": "6ea174db",
        "outputId": "6fd40a89-9ea5-422c-cec4-f21fdae580e2"
      },
      "outputs": [
        {
          "output_type": "execute_result",
          "data": {
            "text/plain": [
              "Company\n",
              "Acer          633.464455\n",
              "Apple        1564.198571\n",
              "Asus         1123.829737\n",
              "Chuwi         314.296667\n",
              "Dell         1199.225120\n",
              "Fujitsu       729.000000\n",
              "Google       1677.666667\n",
              "HP           1080.314664\n",
              "Huawei       1424.000000\n",
              "LG           2099.000000\n",
              "Lenovo       1093.862215\n",
              "MSI          1728.908148\n",
              "Mediacom      295.000000\n",
              "Microsoft    1612.308333\n",
              "Razer        3346.142857\n",
              "Samsung      1413.444444\n",
              "Toshiba      1267.812500\n",
              "Vero          217.425000\n",
              "Xiaomi       1133.462500\n",
              "Name: Price_euros, dtype: float64"
            ]
          },
          "metadata": {},
          "execution_count": 16
        }
      ],
      "source": [
        "df_product_price"
      ]
    },
    {
      "cell_type": "code",
      "execution_count": 17,
      "id": "0e187aba",
      "metadata": {
        "id": "0e187aba"
      },
      "outputs": [],
      "source": [
        "df_product_price = pd.DataFrame(data = df_product_price)\n",
        "df_product_price.columns = [\"Product Avg Price\"]\n",
        "df_product_price.sort_values(by=\"Product Avg Price\",ascending=False,inplace=True)\n"
      ]
    },
    {
      "cell_type": "code",
      "execution_count": 18,
      "id": "5d895ef8",
      "metadata": {
        "colab": {
          "base_uri": "https://localhost:8080/",
          "height": 536
        },
        "id": "5d895ef8",
        "outputId": "82f3106e-14b8-4946-a927-70782a06edcb"
      },
      "outputs": [
        {
          "output_type": "execute_result",
          "data": {
            "text/plain": [
              "Text(0.5, 1.0, 'Average Price Per Company')"
            ]
          },
          "metadata": {},
          "execution_count": 18
        },
        {
          "output_type": "display_data",
          "data": {
            "text/plain": [
              "<Figure size 1080x576 with 1 Axes>"
            ],
            "image/png": "[encoded data removed]"
          },
          "metadata": {
            "needs_background": "light"
          }
        }
      ],
      "source": [
        "plt.figure(figsize = (15,8))\n",
        "splot = sns.barplot(data = df_product_price,x= df_product_price.index, y = 'Product Avg Price', palette = 'autumn')\n",
        "for p in splot.patches:\n",
        "    splot.annotate(format(p.get_height(), '.2f'), \n",
        "                   (p.get_x() + p.get_width() / 2., p.get_height()), \n",
        "                   ha = 'center', va = 'center', \n",
        "                   xytext = (0, 9), \n",
        "                   textcoords = 'offset points')\n",
        "    \n",
        "plt.xlabel(\"Name of the Company\", size=15)\n",
        "plt.ylabel(\"Average Product Price\", size=15)\n",
        "plt.title('Average Price Per Company')"
      ]
    },
    {
      "cell_type": "markdown",
      "id": "ae7450cf",
      "metadata": {
        "id": "ae7450cf"
      },
      "source": [
        "# Keep Continue for Regression Model"
      ]
    },
    {
      "cell_type": "code",
      "source": [
        "df.nunique()"
      ],
      "metadata": {
        "colab": {
          "base_uri": "https://localhost:8080/"
        },
        "id": "r5NrDrKL0i_P",
        "outputId": "5303d8ba-b3dd-43df-b4e9-998e5b13303d"
      },
      "id": "r5NrDrKL0i_P",
      "execution_count": null,
      "outputs": [
        {
          "output_type": "execute_result",
          "data": {
            "text/plain": [
              "Company              19\n",
              "Product             618\n",
              "TypeName              6\n",
              "Inches               18\n",
              "ScreenResolution     40\n",
              "Cpu                 118\n",
              "Ram                   9\n",
              "Memory               39\n",
              "Gpu                 110\n",
              "OpSys                 9\n",
              "Weight              171\n",
              "Price_euros         791\n",
              "dtype: int64"
            ]
          },
          "metadata": {},
          "execution_count": 40
        }
      ]
    },
    {
      "cell_type": "markdown",
      "source": [
        "**LabelEncoding for Categorical Values**"
      ],
      "metadata": {
        "id": "w-FXH_dt45w6"
      },
      "id": "w-FXH_dt45w6"
    },
    {
      "cell_type": "code",
      "source": [
        "from sklearn.preprocessing import LabelEncoder\n",
        "le=LabelEncoder()\n",
        "import numpy as np\n",
        "from pandas.core.dtypes.common import is_numeric_dtype\n",
        "for column in df.columns:\n",
        "  if is_numeric_dtype(df[column]):\n",
        "    continue\n",
        "  else:\n",
        "    df[column]=le.fit_transform(df[column])"
      ],
      "metadata": {
        "id": "wq729wL93xv9"
      },
      "id": "wq729wL93xv9",
      "execution_count": 51,
      "outputs": []
    },
    {
      "cell_type": "markdown",
      "source": [
        "**Correlation Heatmap**"
      ],
      "metadata": {
        "id": "Y7sbWuM1cgp5"
      },
      "id": "Y7sbWuM1cgp5"
    },
    {
      "cell_type": "code",
      "source": [
        "#correlation map\n",
        "sns.heatmap(df.corr(), cmap=\"YlGnBu\", annot=True, annot_kws={\"size\":20})\n",
        "sns.set(rc={'figure.figsize':(20,15)})\n",
        "sns.set(font_scale = 1)"
      ],
      "metadata": {
        "colab": {
          "base_uri": "https://localhost:8080/",
          "height": 871
        },
        "id": "RtY3Qj1dH1-K",
        "outputId": "80edd89b-a9e3-4619-ead6-ca9850619b50"
      },
      "id": "RtY3Qj1dH1-K",
      "execution_count": 42,
      "outputs": [
        {
          "output_type": "display_data",
          "data": {
            "text/plain": [
              "<Figure size 1440x1080 with 2 Axes>"
            ],
            "image/png": "[encoded data removed]"
          },
          "metadata": {}
        }
      ]
    },
    {
      "cell_type": "code",
      "source": [
        "df.head(3)"
      ],
      "metadata": {
        "colab": {
          "base_uri": "https://localhost:8080/",
          "height": 143
        },
        "id": "u3HZmBBp5Iu3",
        "outputId": "ea8166c2-a7f9-4766-b0f9-1e13e9301d54"
      },
      "id": "u3HZmBBp5Iu3",
      "execution_count": 52,
      "outputs": [
        {
          "output_type": "execute_result",
          "data": {
            "text/plain": [
              "   Company  Product  TypeName  Inches  ScreenResolution  Cpu  Ram  Memory  \\\n",
              "0        1      300         4    13.3                23   65    8       4   \n",
              "1        1      301         4    13.3                 1   63    8       2   \n",
              "2        7       50         3    15.6                 8   74    8      16   \n",
              "\n",
              "   Gpu  OpSys  Weight  Price_euros  \n",
              "0   58      8    1.37      1339.69  \n",
              "1   51      8    1.34       898.94  \n",
              "2   53      4    1.86       575.00  "
            ],
            "text/html": [
              "\n",
              "  <div id=\"df-914367f5-7f29-4bfb-b4bd-b876e9606c98\">\n",
              "    <div class=\"colab-df-container\">\n",
              "      <div>\n",
              "<style scoped>\n",
              "    .dataframe tbody tr th:only-of-type {\n",
              "        vertical-align: middle;\n",
              "    }\n",
              "\n",
              "    .dataframe tbody tr th {\n",
              "        vertical-align: top;\n",
              "    }\n",
              "\n",
              "    .dataframe thead th {\n",
              "        text-align: right;\n",
              "    }\n",
              "</style>\n",
              "<table border=\"1\" class=\"dataframe\">\n",
              "  <thead>\n",
              "    <tr style=\"text-align: right;\">\n",
              "      <th></th>\n",
              "      <th>Company</th>\n",
              "      <th>Product</th>\n",
              "      <th>TypeName</th>\n",
              "      <th>Inches</th>\n",
              "      <th>ScreenResolution</th>\n",
              "      <th>Cpu</th>\n",
              "      <th>Ram</th>\n",
              "      <th>Memory</th>\n",
              "      <th>Gpu</th>\n",
              "      <th>OpSys</th>\n",
              "      <th>Weight</th>\n",
              "      <th>Price_euros</th>\n",
              "    </tr>\n",
              "  </thead>\n",
              "  <tbody>\n",
              "    <tr>\n",
              "      <th>0</th>\n",
              "      <td>1</td>\n",
              "      <td>300</td>\n",
              "      <td>4</td>\n",
              "      <td>13.3</td>\n",
              "      <td>23</td>\n",
              "      <td>65</td>\n",
              "      <td>8</td>\n",
              "      <td>4</td>\n",
              "      <td>58</td>\n",
              "      <td>8</td>\n",
              "      <td>1.37</td>\n",
              "      <td>1339.69</td>\n",
              "    </tr>\n",
              "    <tr>\n",
              "      <th>1</th>\n",
              "      <td>1</td>\n",
              "      <td>301</td>\n",
              "      <td>4</td>\n",
              "      <td>13.3</td>\n",
              "      <td>1</td>\n",
              "      <td>63</td>\n",
              "      <td>8</td>\n",
              "      <td>2</td>\n",
              "      <td>51</td>\n",
              "      <td>8</td>\n",
              "      <td>1.34</td>\n",
              "      <td>898.94</td>\n",
              "    </tr>\n",
              "    <tr>\n",
              "      <th>2</th>\n",
              "      <td>7</td>\n",
              "      <td>50</td>\n",
              "      <td>3</td>\n",
              "      <td>15.6</td>\n",
              "      <td>8</td>\n",
              "      <td>74</td>\n",
              "      <td>8</td>\n",
              "      <td>16</td>\n",
              "      <td>53</td>\n",
              "      <td>4</td>\n",
              "      <td>1.86</td>\n",
              "      <td>575.00</td>\n",
              "    </tr>\n",
              "  </tbody>\n",
              "</table>\n",
              "</div>\n",
              "      <button class=\"colab-df-convert\" onclick=\"convertToInteractive('df-914367f5-7f29-4bfb-b4bd-b876e9606c98')\"\n",
              "              title=\"Convert this dataframe to an interactive table.\"\n",
              "              style=\"display:none;\">\n",
              "        \n",
              "  <svg xmlns=\"http://www.w3.org/2000/svg\" height=\"24px\"viewBox=\"0 0 24 24\"\n",
              "       width=\"24px\">\n",
              "    <path d=\"M0 0h24v24H0V0z\" fill=\"none\"/>\n",
              "    <path d=\"M18.56 5.44l.94 2.06.94-2.06 2.06-.94-2.06-.94-.94-2.06-.94 2.06-2.06.94zm-11 1L8.5 8.5l.94-2.06 2.06-.94-2.06-.94L8.5 2.5l-.94 2.06-2.06.94zm10 10l.94 2.06.94-2.06 2.06-.94-2.06-.94-.94-2.06-.94 2.06-2.06.94z\"/><path d=\"M17.41 7.96l-1.37-1.37c-.4-.4-.92-.59-1.43-.59-.52 0-1.04.2-1.43.59L10.3 9.45l-7.72 7.72c-.78.78-.78 2.05 0 2.83L4 21.41c.39.39.9.59 1.41.59.51 0 1.02-.2 1.41-.59l7.78-7.78 2.81-2.81c.8-.78.8-2.07 0-2.86zM5.41 20L4 18.59l7.72-7.72 1.47 1.35L5.41 20z\"/>\n",
              "  </svg>\n",
              "      </button>\n",
              "      \n",
              "  <style>\n",
              "    .colab-df-container {\n",
              "      display:flex;\n",
              "      flex-wrap:wrap;\n",
              "      gap: 12px;\n",
              "    }\n",
              "\n",
              "    .colab-df-convert {\n",
              "      background-color: #E8F0FE;\n",
              "      border: none;\n",
              "      border-radius: 50%;\n",
              "      cursor: pointer;\n",
              "      display: none;\n",
              "      fill: #1967D2;\n",
              "      height: 32px;\n",
              "      padding: 0 0 0 0;\n",
              "      width: 32px;\n",
              "    }\n",
              "\n",
              "    .colab-df-convert:hover {\n",
              "      background-color: #E2EBFA;\n",
              "      box-shadow: 0px 1px 2px rgba(60, 64, 67, 0.3), 0px 1px 3px 1px rgba(60, 64, 67, 0.15);\n",
              "      fill: #174EA6;\n",
              "    }\n",
              "\n",
              "    [theme=dark] .colab-df-convert {\n",
              "      background-color: #3B4455;\n",
              "      fill: #D2E3FC;\n",
              "    }\n",
              "\n",
              "    [theme=dark] .colab-df-convert:hover {\n",
              "      background-color: #434B5C;\n",
              "      box-shadow: 0px 1px 3px 1px rgba(0, 0, 0, 0.15);\n",
              "      filter: drop-shadow(0px 1px 2px rgba(0, 0, 0, 0.3));\n",
              "      fill: #FFFFFF;\n",
              "    }\n",
              "  </style>\n",
              "\n",
              "      <script>\n",
              "        const buttonEl =\n",
              "          document.querySelector('#df-914367f5-7f29-4bfb-b4bd-b876e9606c98 button.colab-df-convert');\n",
              "        buttonEl.style.display =\n",
              "          google.colab.kernel.accessAllowed ? 'block' : 'none';\n",
              "\n",
              "        async function convertToInteractive(key) {\n",
              "          const element = document.querySelector('#df-914367f5-7f29-4bfb-b4bd-b876e9606c98');\n",
              "          const dataTable =\n",
              "            await google.colab.kernel.invokeFunction('convertToInteractive',\n",
              "                                                     [key], {});\n",
              "          if (!dataTable) return;\n",
              "\n",
              "          const docLinkHtml = 'Like what you see? Visit the ' +\n",
              "            '<a target=\"_blank\" href=https://colab.research.google.com/notebooks/data_table.ipynb>data table notebook</a>'\n",
              "            + ' to learn more about interactive tables.';\n",
              "          element.innerHTML = '';\n",
              "          dataTable['output_type'] = 'display_data';\n",
              "          await google.colab.output.renderOutput(dataTable, element);\n",
              "          const docLink = document.createElement('div');\n",
              "          docLink.innerHTML = docLinkHtml;\n",
              "          element.appendChild(docLink);\n",
              "        }\n",
              "      </script>\n",
              "    </div>\n",
              "  </div>\n",
              "  "
            ]
          },
          "metadata": {},
          "execution_count": 52
        }
      ]
    },
    {
      "cell_type": "code",
      "source": [
        ""
      ],
      "metadata": {
        "id": "mZ7lSoK8FJUT"
      },
      "id": "mZ7lSoK8FJUT",
      "execution_count": null,
      "outputs": []
    },
    {
      "cell_type": "markdown",
      "source": [
        "**Separate target and features**"
      ],
      "metadata": {
        "id": "nOG0_GkU5vv_"
      },
      "id": "nOG0_GkU5vv_"
    },
    {
      "cell_type": "code",
      "source": [
        "#Target\n",
        "y=df['Price_euros']\n",
        "#Features\n",
        "X=df.copy()\n",
        "X=df.drop('Price_euros', axis=1)\n",
        "print(y.shape)\n",
        "print(X.shape)"
      ],
      "metadata": {
        "colab": {
          "base_uri": "https://localhost:8080/"
        },
        "id": "9WDdhHzu55t8",
        "outputId": "4fde252f-723d-4402-ab2e-8f9d63b6b61c"
      },
      "id": "9WDdhHzu55t8",
      "execution_count": 53,
      "outputs": [
        {
          "output_type": "stream",
          "name": "stdout",
          "text": [
            "(1275,)\n",
            "(1275, 11)\n"
          ]
        }
      ]
    },
    {
      "cell_type": "markdown",
      "source": [
        "**Features Scaling**"
      ],
      "metadata": {
        "id": "VX4VpXs0VUaV"
      },
      "id": "VX4VpXs0VUaV"
    },
    {
      "cell_type": "code",
      "execution_count": 54,
      "id": "0bbd8cf5",
      "metadata": {
        "colab": {
          "base_uri": "https://localhost:8080/",
          "height": 206
        },
        "id": "0bbd8cf5",
        "outputId": "1ab49d08-b2db-4600-ed55-7ee85cec29da"
      },
      "outputs": [
        {
          "output_type": "execute_result",
          "data": {
            "text/plain": [
              "    Company   Product  TypeName    Inches  ScreenResolution       Cpu  \\\n",
              "0 -1.333546 -0.042870  1.136135 -1.205746          1.737738 -0.495277   \n",
              "1 -1.333546 -0.037025  1.136135 -1.205746         -1.056229 -0.575388   \n",
              "2  0.131784 -1.504040  0.334490  0.403873         -0.167240 -0.134776   \n",
              "3 -1.333546 -0.042870  1.136135  0.263906          1.991735  0.305837   \n",
              "4 -1.333546 -0.042870  1.136135 -1.205746          1.737738 -0.415165   \n",
              "\n",
              "        Ram    Memory       Gpu     OpSys    Weight  \n",
              "0 -0.086499 -1.549159  0.142843  3.081382 -1.002380  \n",
              "1 -0.086499 -1.801288 -0.180319  3.081382 -1.047227  \n",
              "2 -0.086499 -0.036386 -0.087987 -0.787414 -0.269871  \n",
              "3  1.483418  1.602452 -2.119287  3.081382 -0.314718  \n",
              "4 -0.086499 -0.036386  0.189009  3.081382 -1.002380  "
            ],
            "text/html": [
              "\n",
              "  <div id=\"df-91328dce-2b0d-4ce1-afad-26d7de92a3d6\">\n",
              "    <div class=\"colab-df-container\">\n",
              "      <div>\n",
              "<style scoped>\n",
              "    .dataframe tbody tr th:only-of-type {\n",
              "        vertical-align: middle;\n",
              "    }\n",
              "\n",
              "    .dataframe tbody tr th {\n",
              "        vertical-align: top;\n",
              "    }\n",
              "\n",
              "    .dataframe thead th {\n",
              "        text-align: right;\n",
              "    }\n",
              "</style>\n",
              "<table border=\"1\" class=\"dataframe\">\n",
              "  <thead>\n",
              "    <tr style=\"text-align: right;\">\n",
              "      <th></th>\n",
              "      <th>Company</th>\n",
              "      <th>Product</th>\n",
              "      <th>TypeName</th>\n",
              "      <th>Inches</th>\n",
              "      <th>ScreenResolution</th>\n",
              "      <th>Cpu</th>\n",
              "      <th>Ram</th>\n",
              "      <th>Memory</th>\n",
              "      <th>Gpu</th>\n",
              "      <th>OpSys</th>\n",
              "      <th>Weight</th>\n",
              "    </tr>\n",
              "  </thead>\n",
              "  <tbody>\n",
              "    <tr>\n",
              "      <th>0</th>\n",
              "      <td>-1.333546</td>\n",
              "      <td>-0.042870</td>\n",
              "      <td>1.136135</td>\n",
              "      <td>-1.205746</td>\n",
              "      <td>1.737738</td>\n",
              "      <td>-0.495277</td>\n",
              "      <td>-0.086499</td>\n",
              "      <td>-1.549159</td>\n",
              "      <td>0.142843</td>\n",
              "      <td>3.081382</td>\n",
              "      <td>-1.002380</td>\n",
              "    </tr>\n",
              "    <tr>\n",
              "      <th>1</th>\n",
              "      <td>-1.333546</td>\n",
              "      <td>-0.037025</td>\n",
              "      <td>1.136135</td>\n",
              "      <td>-1.205746</td>\n",
              "      <td>-1.056229</td>\n",
              "      <td>-0.575388</td>\n",
              "      <td>-0.086499</td>\n",
              "      <td>-1.801288</td>\n",
              "      <td>-0.180319</td>\n",
              "      <td>3.081382</td>\n",
              "      <td>-1.047227</td>\n",
              "    </tr>\n",
              "    <tr>\n",
              "      <th>2</th>\n",
              "      <td>0.131784</td>\n",
              "      <td>-1.504040</td>\n",
              "      <td>0.334490</td>\n",
              "      <td>0.403873</td>\n",
              "      <td>-0.167240</td>\n",
              "      <td>-0.134776</td>\n",
              "      <td>-0.086499</td>\n",
              "      <td>-0.036386</td>\n",
              "      <td>-0.087987</td>\n",
              "      <td>-0.787414</td>\n",
              "      <td>-0.269871</td>\n",
              "    </tr>\n",
              "    <tr>\n",
              "      <th>3</th>\n",
              "      <td>-1.333546</td>\n",
              "      <td>-0.042870</td>\n",
              "      <td>1.136135</td>\n",
              "      <td>0.263906</td>\n",
              "      <td>1.991735</td>\n",
              "      <td>0.305837</td>\n",
              "      <td>1.483418</td>\n",
              "      <td>1.602452</td>\n",
              "      <td>-2.119287</td>\n",
              "      <td>3.081382</td>\n",
              "      <td>-0.314718</td>\n",
              "    </tr>\n",
              "    <tr>\n",
              "      <th>4</th>\n",
              "      <td>-1.333546</td>\n",
              "      <td>-0.042870</td>\n",
              "      <td>1.136135</td>\n",
              "      <td>-1.205746</td>\n",
              "      <td>1.737738</td>\n",
              "      <td>-0.415165</td>\n",
              "      <td>-0.086499</td>\n",
              "      <td>-0.036386</td>\n",
              "      <td>0.189009</td>\n",
              "      <td>3.081382</td>\n",
              "      <td>-1.002380</td>\n",
              "    </tr>\n",
              "  </tbody>\n",
              "</table>\n",
              "</div>\n",
              "      <button class=\"colab-df-convert\" onclick=\"convertToInteractive('df-91328dce-2b0d-4ce1-afad-26d7de92a3d6')\"\n",
              "              title=\"Convert this dataframe to an interactive table.\"\n",
              "              style=\"display:none;\">\n",
              "        \n",
              "  <svg xmlns=\"http://www.w3.org/2000/svg\" height=\"24px\"viewBox=\"0 0 24 24\"\n",
              "       width=\"24px\">\n",
              "    <path d=\"M0 0h24v24H0V0z\" fill=\"none\"/>\n",
              "    <path d=\"M18.56 5.44l.94 2.06.94-2.06 2.06-.94-2.06-.94-.94-2.06-.94 2.06-2.06.94zm-11 1L8.5 8.5l.94-2.06 2.06-.94-2.06-.94L8.5 2.5l-.94 2.06-2.06.94zm10 10l.94 2.06.94-2.06 2.06-.94-2.06-.94-.94-2.06-.94 2.06-2.06.94z\"/><path d=\"M17.41 7.96l-1.37-1.37c-.4-.4-.92-.59-1.43-.59-.52 0-1.04.2-1.43.59L10.3 9.45l-7.72 7.72c-.78.78-.78 2.05 0 2.83L4 21.41c.39.39.9.59 1.41.59.51 0 1.02-.2 1.41-.59l7.78-7.78 2.81-2.81c.8-.78.8-2.07 0-2.86zM5.41 20L4 18.59l7.72-7.72 1.47 1.35L5.41 20z\"/>\n",
              "  </svg>\n",
              "      </button>\n",
              "      \n",
              "  <style>\n",
              "    .colab-df-container {\n",
              "      display:flex;\n",
              "      flex-wrap:wrap;\n",
              "      gap: 12px;\n",
              "    }\n",
              "\n",
              "    .colab-df-convert {\n",
              "      background-color: #E8F0FE;\n",
              "      border: none;\n",
              "      border-radius: 50%;\n",
              "      cursor: pointer;\n",
              "      display: none;\n",
              "      fill: #1967D2;\n",
              "      height: 32px;\n",
              "      padding: 0 0 0 0;\n",
              "      width: 32px;\n",
              "    }\n",
              "\n",
              "    .colab-df-convert:hover {\n",
              "      background-color: #E2EBFA;\n",
              "      box-shadow: 0px 1px 2px rgba(60, 64, 67, 0.3), 0px 1px 3px 1px rgba(60, 64, 67, 0.15);\n",
              "      fill: #174EA6;\n",
              "    }\n",
              "\n",
              "    [theme=dark] .colab-df-convert {\n",
              "      background-color: #3B4455;\n",
              "      fill: #D2E3FC;\n",
              "    }\n",
              "\n",
              "    [theme=dark] .colab-df-convert:hover {\n",
              "      background-color: #434B5C;\n",
              "      box-shadow: 0px 1px 3px 1px rgba(0, 0, 0, 0.15);\n",
              "      filter: drop-shadow(0px 1px 2px rgba(0, 0, 0, 0.3));\n",
              "      fill: #FFFFFF;\n",
              "    }\n",
              "  </style>\n",
              "\n",
              "      <script>\n",
              "        const buttonEl =\n",
              "          document.querySelector('#df-91328dce-2b0d-4ce1-afad-26d7de92a3d6 button.colab-df-convert');\n",
              "        buttonEl.style.display =\n",
              "          google.colab.kernel.accessAllowed ? 'block' : 'none';\n",
              "\n",
              "        async function convertToInteractive(key) {\n",
              "          const element = document.querySelector('#df-91328dce-2b0d-4ce1-afad-26d7de92a3d6');\n",
              "          const dataTable =\n",
              "            await google.colab.kernel.invokeFunction('convertToInteractive',\n",
              "                                                     [key], {});\n",
              "          if (!dataTable) return;\n",
              "\n",
              "          const docLinkHtml = 'Like what you see? Visit the ' +\n",
              "            '<a target=\"_blank\" href=https://colab.research.google.com/notebooks/data_table.ipynb>data table notebook</a>'\n",
              "            + ' to learn more about interactive tables.';\n",
              "          element.innerHTML = '';\n",
              "          dataTable['output_type'] = 'display_data';\n",
              "          await google.colab.output.renderOutput(dataTable, element);\n",
              "          const docLink = document.createElement('div');\n",
              "          docLink.innerHTML = docLinkHtml;\n",
              "          element.appendChild(docLink);\n",
              "        }\n",
              "      </script>\n",
              "    </div>\n",
              "  </div>\n",
              "  "
            ]
          },
          "metadata": {},
          "execution_count": 54
        }
      ],
      "source": [
        "#Standard Scaler\n",
        "x= X.columns\n",
        "from sklearn.preprocessing import StandardScaler \n",
        "sc= StandardScaler()\n",
        "X[x] = sc.fit_transform(X[x])\n",
        "X.head(5)\n",
        "\n",
        "\n"
      ]
    },
    {
      "cell_type": "markdown",
      "source": [
        "**Splitting Train and Test**"
      ],
      "metadata": {
        "id": "oSRjwf2cFiUE"
      },
      "id": "oSRjwf2cFiUE"
    },
    {
      "cell_type": "code",
      "source": [
        "from sklearn.model_selection import train_test_split\n",
        "X_train, X_test, y_train, y_test=train_test_split(X,y, test_size=0.2, random_state =42)"
      ],
      "metadata": {
        "id": "z-h-5FWJFmmK"
      },
      "id": "z-h-5FWJFmmK",
      "execution_count": 55,
      "outputs": []
    },
    {
      "cell_type": "markdown",
      "source": [
        "**Linear Regression**"
      ],
      "metadata": {
        "id": "bjTPwfITd_wH"
      },
      "id": "bjTPwfITd_wH"
    },
    {
      "cell_type": "code",
      "source": [
        "from sklearn.linear_model import LinearRegression\n",
        "lr=LinearRegression()\n",
        "lr.fit(X_train, y_train)\n",
        "#value Coefficient or Slope\n",
        "m= lr.coef_\n",
        "print('cofficient/slope(m):', m)\n",
        "#value y intercept\n",
        "c= lr.intercept_\n",
        "print('interceptor(c):',c)\n",
        "#train accurecy\n",
        "#Accuracy Check\n",
        "print('train accuracy:', lr.score(X_train , y_train))\n",
        "#test accuracy\n",
        "#Accuracy Check\n",
        "print('test accuracy:', lr.score(X_test , y_test))"
      ],
      "metadata": {
        "colab": {
          "base_uri": "https://localhost:8080/"
        },
        "id": "G_xdFwRAFHDA",
        "outputId": "3f305d23-e952-466f-b2ee-9e6768f0e72c"
      },
      "id": "G_xdFwRAFHDA",
      "execution_count": 56,
      "outputs": [
        {
          "output_type": "stream",
          "name": "stdout",
          "text": [
            "cofficient/slope(m): [  44.25994003   25.59311594   56.02437058 -102.56659072   81.08094427\n",
            "  114.93859979  387.92688259   54.49025552   83.17058239  109.07474782\n",
            "   74.66627211]\n",
            "interceptor(c): 1140.2754734095251\n",
            "train accuracy: 0.6701154081767677\n",
            "test accuracy: 0.6677019827718136\n"
          ]
        }
      ]
    },
    {
      "cell_type": "markdown",
      "source": [
        "**Ridge**"
      ],
      "metadata": {
        "id": "YPfoucnMdxwj"
      },
      "id": "YPfoucnMdxwj"
    },
    {
      "cell_type": "code",
      "source": [
        "from sklearn.linear_model import Ridge\n",
        "rd=Ridge(random_state=42, solver='lsqr')\n",
        "rd.fit(X_train, y_train)\n",
        "#train accurecy\n",
        "#Accuracy Check\n",
        "print('train accuracy:', rd.score(X_train , y_train))\n",
        "#test accuracy\n",
        "#Accuracy Check\n",
        "print('test accuracy:', rd.score(X_test , y_test))"
      ],
      "metadata": {
        "colab": {
          "base_uri": "https://localhost:8080/"
        },
        "id": "5BXhFmrUIlBJ",
        "outputId": "4076d77e-c8c8-4d7c-b56c-10c732906e08"
      },
      "id": "5BXhFmrUIlBJ",
      "execution_count": 57,
      "outputs": [
        {
          "output_type": "stream",
          "name": "stdout",
          "text": [
            "train accuracy: 0.6701146253546173\n",
            "test accuracy: 0.6675590926519943\n"
          ]
        }
      ]
    },
    {
      "cell_type": "markdown",
      "source": [
        "**Lasso**"
      ],
      "metadata": {
        "id": "iYi8Zgtad3-W"
      },
      "id": "iYi8Zgtad3-W"
    },
    {
      "cell_type": "code",
      "source": [
        "from sklearn.linear_model import Lasso\n",
        "ls=Lasso()\n",
        "ls.fit(X_train, y_train)\n",
        "#train accurecy\n",
        "#Accuracy Check\n",
        "print('train accuracy:', ls.score(X_train , y_train))\n",
        "#test accuracy\n",
        "#Accuracy Check\n",
        "print('test accuracy:', ls.score(X_test , y_test))"
      ],
      "metadata": {
        "colab": {
          "base_uri": "https://localhost:8080/"
        },
        "id": "veB_fl5MMSGe",
        "outputId": "1dec9b3a-e3f4-40ec-e017-83e1b72298ea"
      },
      "id": "veB_fl5MMSGe",
      "execution_count": 58,
      "outputs": [
        {
          "output_type": "stream",
          "name": "stdout",
          "text": [
            "train accuracy: 0.6700712731307983\n",
            "test accuracy: 0.6671601660714197\n"
          ]
        }
      ]
    },
    {
      "cell_type": "markdown",
      "source": [
        "**ElasticNet**"
      ],
      "metadata": {
        "id": "uuZN1yIaeCkp"
      },
      "id": "uuZN1yIaeCkp"
    },
    {
      "cell_type": "code",
      "source": [
        "from sklearn.linear_model import ElasticNet\n",
        "en=ElasticNet()\n",
        "en.fit(X_train, y_train)\n",
        "#train accurecy\n",
        "#Accuracy Check\n",
        "print('train accuracy:', en.score(X_train , y_train))\n",
        "#test accuracy\n",
        "#Accuracy Check\n",
        "print('test accuracy:', en.score(X_test , y_test))\n"
      ],
      "metadata": {
        "colab": {
          "base_uri": "https://localhost:8080/"
        },
        "id": "a7aLlzqAYKaw",
        "outputId": "1e9bbc54-a380-4135-c04a-b2862d8519d2"
      },
      "id": "a7aLlzqAYKaw",
      "execution_count": 59,
      "outputs": [
        {
          "output_type": "stream",
          "name": "stdout",
          "text": [
            "train accuracy: 0.6289028367839231\n",
            "test accuracy: 0.6046885709097292\n"
          ]
        }
      ]
    },
    {
      "cell_type": "markdown",
      "source": [
        "**DecisionTreeRegressor**"
      ],
      "metadata": {
        "id": "IyZBqyIaeGTT"
      },
      "id": "IyZBqyIaeGTT"
    },
    {
      "cell_type": "code",
      "source": [
        "from sklearn.tree import DecisionTreeRegressor\n",
        "dtc=DecisionTreeRegressor(random_state=42)\n",
        "dtc.fit(X_train, y_train)\n",
        "#train accurecy\n",
        "#Accuracy Check\n",
        "print('train accuracy:',dtc.score(X_train , y_train))\n",
        "#test accuracy\n",
        "#Accuracy Check\n",
        "print('test accuracy:', dtc.score(X_test , y_test))"
      ],
      "metadata": {
        "colab": {
          "base_uri": "https://localhost:8080/"
        },
        "id": "V2facuq5fuq-",
        "outputId": "81a1352a-4e25-41e0-9c65-a6c16d8bde14"
      },
      "id": "V2facuq5fuq-",
      "execution_count": 60,
      "outputs": [
        {
          "output_type": "stream",
          "name": "stdout",
          "text": [
            "train accuracy: 0.9996512079646255\n",
            "test accuracy: 0.7560042761610357\n"
          ]
        }
      ]
    },
    {
      "cell_type": "markdown",
      "source": [
        "**RandomForestRegressor**"
      ],
      "metadata": {
        "id": "tsccOp1CeM77"
      },
      "id": "tsccOp1CeM77"
    },
    {
      "cell_type": "code",
      "source": [
        "from sklearn.ensemble import RandomForestRegressor\n",
        "rf=RandomForestRegressor(random_state=42, max_features='sqrt')\n",
        "rf.fit(X_train, y_train)\n",
        "#train accurecy\n",
        "#Accuracy Check\n",
        "print('train accuracy:',rf.score(X_train , y_train))\n",
        "#test accuracy\n",
        "#Accuracy Check\n",
        "print('test accuracy:', rf.score(X_test , y_test))"
      ],
      "metadata": {
        "colab": {
          "base_uri": "https://localhost:8080/"
        },
        "id": "bDhPZkO5gYZ5",
        "outputId": "c0678aab-4853-469f-f931-4541672cc1c2"
      },
      "id": "bDhPZkO5gYZ5",
      "execution_count": 61,
      "outputs": [
        {
          "output_type": "stream",
          "name": "stdout",
          "text": [
            "train accuracy: 0.9771456387167403\n",
            "test accuracy: 0.8703799384985785\n"
          ]
        }
      ]
    },
    {
      "cell_type": "markdown",
      "source": [
        "**ExtraTreesRegressor**"
      ],
      "metadata": {
        "id": "JFkp4EedeR60"
      },
      "id": "JFkp4EedeR60"
    },
    {
      "cell_type": "code",
      "source": [
        "from sklearn.ensemble import ExtraTreesRegressor\n",
        "etr=ExtraTreesRegressor(random_state=42)\n",
        "etr.fit(X_train, y_train)\n",
        "#train accurecy\n",
        "#Accuracy Check\n",
        "print('train accuracy:', etr.score(X_train , y_train))\n",
        "#test accuracy\n",
        "#Accuracy Check\n",
        "print('test accuracy:', etr.score(X_test , y_test))"
      ],
      "metadata": {
        "colab": {
          "base_uri": "https://localhost:8080/"
        },
        "id": "iYGOKLSltqvC",
        "outputId": "4412d6f9-9e72-471e-bad4-e3146c7029c1"
      },
      "id": "iYGOKLSltqvC",
      "execution_count": 62,
      "outputs": [
        {
          "output_type": "stream",
          "name": "stdout",
          "text": [
            "train accuracy: 0.9996512079646255\n",
            "test accuracy: 0.8828542484447874\n"
          ]
        }
      ]
    },
    {
      "cell_type": "markdown",
      "source": [
        "**K-Nearest Neighboring Regressor**"
      ],
      "metadata": {
        "id": "9XdBDH17eVfO"
      },
      "id": "9XdBDH17eVfO"
    },
    {
      "cell_type": "code",
      "source": [
        "from sklearn.neighbors import KNeighborsRegressor\n",
        "knn=KNeighborsRegressor(n_neighbors=3,  weights='distance')\n",
        "knn.fit(X_train, y_train)\n",
        "#train accurecy\n",
        "#Accuracy Check\n",
        "print('train accuracy:',knn.score(X_train , y_train))\n",
        "#test accuracy\n",
        "#Accuracy Check\n",
        "print('test accuracy:', knn.score(X_test , y_test))"
      ],
      "metadata": {
        "colab": {
          "base_uri": "https://localhost:8080/"
        },
        "id": "gBx1PE7wgqfn",
        "outputId": "44b107a0-e532-44d7-d7ed-348d2931c7ac"
      },
      "id": "gBx1PE7wgqfn",
      "execution_count": 63,
      "outputs": [
        {
          "output_type": "stream",
          "name": "stdout",
          "text": [
            "train accuracy: 0.9996512079646255\n",
            "test accuracy: 0.7809184980883545\n"
          ]
        }
      ]
    },
    {
      "cell_type": "markdown",
      "source": [
        "**Support Vector Regressor**"
      ],
      "metadata": {
        "id": "DJF4Ty_0ek2N"
      },
      "id": "DJF4Ty_0ek2N"
    },
    {
      "cell_type": "code",
      "source": [
        "from pandas.core.common import random_state\n",
        "from sklearn.svm import SVR\n",
        "svr=SVR(kernel='linear', C=9)\n",
        "svr.fit(X_train, y_train)\n",
        "#train accurecy\n",
        "#Accuracy Check\n",
        "print('train accuracy:',svr.score(X_train , y_train))\n",
        "#test accuracy\n",
        "#Accuracy Check\n",
        "print('test accuracy:', svr.score(X_test , y_test))"
      ],
      "metadata": {
        "colab": {
          "base_uri": "https://localhost:8080/"
        },
        "id": "F90b0L5Gg7td",
        "outputId": "6ee187d5-fa33-4095-890d-f787981b127a"
      },
      "id": "F90b0L5Gg7td",
      "execution_count": 64,
      "outputs": [
        {
          "output_type": "stream",
          "name": "stdout",
          "text": [
            "train accuracy: 0.651702295980974\n",
            "test accuracy: 0.6504815680022842\n"
          ]
        }
      ]
    },
    {
      "cell_type": "markdown",
      "source": [
        "**Linear Support Vector Regressor**"
      ],
      "metadata": {
        "id": "D0HU5bKPeov6"
      },
      "id": "D0HU5bKPeov6"
    },
    {
      "cell_type": "code",
      "source": [
        "from sklearn.svm import LinearSVR\n",
        "lsvr= LinearSVR(random_state=42, loss='squared_epsilon_insensitive', C=9)\n",
        "lsvr.fit(X_train, y_train)\n",
        "#train accurecy\n",
        "#Accuracy Check\n",
        "print('train accuracy:',lsvr.score(X_train , y_train))\n",
        "#test accuracy\n",
        "#Accuracy Check\n",
        "print('test accuracy:', lsvr.score(X_test , y_test))"
      ],
      "metadata": {
        "colab": {
          "base_uri": "https://localhost:8080/"
        },
        "id": "cbebhtcqhM-G",
        "outputId": "83292cda-0d5b-4b36-f22c-8d5fad6f6d6e"
      },
      "id": "cbebhtcqhM-G",
      "execution_count": 65,
      "outputs": [
        {
          "output_type": "stream",
          "name": "stdout",
          "text": [
            "train accuracy: 0.6690944322783585\n",
            "test accuracy: 0.6700006757746415\n"
          ]
        }
      ]
    },
    {
      "cell_type": "markdown",
      "source": [
        "**Stochastic Gradient Descent Regressor**"
      ],
      "metadata": {
        "id": "YqQWzoibeul5"
      },
      "id": "YqQWzoibeul5"
    },
    {
      "cell_type": "code",
      "source": [
        "from sklearn.linear_model import SGDRegressor\n",
        "sgd=SGDRegressor(random_state=42, loss='squared_epsilon_insensitive', n_iter_no_change=500)\n",
        "sgd.fit(X_train, y_train)\n",
        "#train accurecy\n",
        "#Accuracy Check\n",
        "print('train accuracy:',sgd.score(X_train , y_train))\n",
        "#test accuracy\n",
        "#Accuracy Check\n",
        "print('test accuracy:', sgd.score(X_test , y_test))"
      ],
      "metadata": {
        "colab": {
          "base_uri": "https://localhost:8080/"
        },
        "id": "OnFX5JGQmPqB",
        "outputId": "c822f1be-b9eb-4f3d-a2ef-6b49a53e2e18"
      },
      "id": "OnFX5JGQmPqB",
      "execution_count": 66,
      "outputs": [
        {
          "output_type": "stream",
          "name": "stdout",
          "text": [
            "train accuracy: 0.670001743624479\n",
            "test accuracy: 0.6684426827418479\n"
          ]
        }
      ]
    },
    {
      "cell_type": "markdown",
      "source": [
        "**GaussianProcessRegressor**"
      ],
      "metadata": {
        "id": "W02uGQqWe8CT"
      },
      "id": "W02uGQqWe8CT"
    },
    {
      "cell_type": "code",
      "source": [
        "from sklearn.gaussian_process import GaussianProcessRegressor\n",
        "gpr=GaussianProcessRegressor(random_state=42, optimizer='callable')\n",
        "gpr.fit(X_train, y_train)\n",
        "#train accurecy\n",
        "#Accuracy Check\n",
        "print('train accuracy:', gpr.score(X_train , y_train))\n",
        "#test accuracy\n",
        "#Accuracy Check\n",
        "print('test accuracy:', gpr.score(X_test , y_test))"
      ],
      "metadata": {
        "colab": {
          "base_uri": "https://localhost:8080/"
        },
        "id": "NTB3wGzKqis0",
        "outputId": "7c84b2a7-b1e3-4f70-97bc-e4bf62f92fdc"
      },
      "id": "NTB3wGzKqis0",
      "execution_count": 67,
      "outputs": [
        {
          "output_type": "stream",
          "name": "stdout",
          "text": [
            "train accuracy: 0.9996512079630464\n",
            "test accuracy: -28.46319198752436\n"
          ]
        }
      ]
    },
    {
      "cell_type": "markdown",
      "source": [
        "**Compare Different Regression ML models**"
      ],
      "metadata": {
        "id": "hrhUg1bEwBsR"
      },
      "id": "hrhUg1bEwBsR"
    },
    {
      "cell_type": "code",
      "source": [
        "models=[\n",
        "LinearRegression(),\n",
        "Ridge(random_state=42, solver='lsqr'),\n",
        "Lasso(),\n",
        "ElasticNet(),\n",
        "DecisionTreeRegressor(random_state=42),\n",
        "RandomForestRegressor(random_state=42, max_features='sqrt'),\n",
        "ExtraTreesRegressor(random_state=42),\n",
        "KNeighborsRegressor(n_neighbors=3,  weights='distance'),\n",
        "SVR(kernel='linear', C=9),\n",
        "LinearSVR(random_state=42, loss='squared_epsilon_insensitive', C=9),\n",
        "SGDRegressor(random_state=42, loss='squared_epsilon_insensitive', n_iter_no_change=500),\n",
        "GaussianProcessRegressor(random_state=42, optimizer='callable'),\n",
        "       ]"
      ],
      "metadata": {
        "id": "z5iDqy76wBRP"
      },
      "id": "z5iDqy76wBRP",
      "execution_count": 68,
      "outputs": []
    },
    {
      "cell_type": "code",
      "source": [
        "import sklearn.metrics as metrics\n",
        "from sklearn.metrics import accuracy_score\n",
        "from sklearn.metrics import mean_squared_error, auc,roc_curve\n",
        "from math import sqrt\n",
        "from sklearn.metrics import roc_auc_score\n",
        "from sklearn.metrics import mean_absolute_error\n",
        "from sklearn.metrics import r2_score  \n",
        "\n"
      ],
      "metadata": {
        "id": "i-MfEAW9yxXQ"
      },
      "id": "i-MfEAW9yxXQ",
      "execution_count": 69,
      "outputs": []
    },
    {
      "cell_type": "code",
      "source": [
        "names =['Linear Regression', 'Ridge', 'Lasso', 'ElasticNet', 'DecisionTree', 'RandomForest', 'ExtraTree', 'KNN', 'SVR', 'LinearSVR', 'GradientBoost', 'GaussianProcess']  \n",
        "\n",
        "models_columns = []\n",
        "models_compare = pd.DataFrame(columns = models_columns)\n",
        "\n",
        "row_index = 0\n",
        "for models_name, ml in zip(names, models): \n",
        "    \n",
        "    ml.fit(X_train, y_train)\n",
        "    y_pred=ml.fit(X_train, y_train).predict(X_test)\n",
        "    #fp, tp, tn = roc_curve(y_test, y_pred)\n",
        "    #models_name = ml.__class__.__name__\n",
        "    models_compare.loc[row_index,'Model Name'] = models_name\n",
        "    models_compare.loc[row_index, 'Train Accuracy'] = round(ml.score(X_train, y_train), 5)\n",
        "    models_compare.loc[row_index, 'Test Accuracy'] = round(ml.score(X_test, y_test), 5)\n",
        "    models_compare.loc[row_index, 'R2 Score'] = r2_score(y_test, y_pred)\n",
        "    models_compare.loc[row_index, 'mean sqrr error']=round((np.square(np.subtract(y_test,y_pred)).mean()),2)\n",
        "    models_compare.loc[row_index, 'root mean sqr error']=sqrt(np.square(np.subtract(y_test,y_pred)).mean())\n",
        "    models_compare.loc[row_index, 'mean abs error']=mean_absolute_error(y_test, y_pred)\n",
        "    row_index+=1\n",
        "    \n",
        "models_compare.sort_values(by = ['Test Accuracy'], ascending = False, inplace = True)    "
      ],
      "metadata": {
        "id": "_ofAY81axaCa"
      },
      "id": "_ofAY81axaCa",
      "execution_count": 78,
      "outputs": []
    },
    {
      "cell_type": "code",
      "source": [
        "models_compare.sort_values(by = ['Test Accuracy'], ascending = False, inplace = True) \n",
        "\n",
        "models_compare"
      ],
      "metadata": {
        "colab": {
          "base_uri": "https://localhost:8080/",
          "height": 426
        },
        "id": "X98q5VVp2QvI",
        "outputId": "7a3813eb-e17c-41d6-ce8a-45eed4e9edbe"
      },
      "id": "X98q5VVp2QvI",
      "execution_count": 79,
      "outputs": [
        {
          "output_type": "execute_result",
          "data": {
            "text/plain": [
              "           Model Name  Train Accuracy  Test Accuracy   R2 Score  \\\n",
              "6           ExtraTree         0.99965        0.88285   0.882854   \n",
              "5        RandomForest         0.97715        0.87038   0.870380   \n",
              "7                 KNN         0.99965        0.78092   0.780918   \n",
              "4        DecisionTree         0.99965        0.75600   0.756004   \n",
              "9           LinearSVR         0.66909        0.67000   0.670001   \n",
              "10      GradientBoost         0.67000        0.66844   0.668443   \n",
              "0   Linear Regression         0.67012        0.66770   0.667702   \n",
              "1               Ridge         0.67011        0.66756   0.667559   \n",
              "2               Lasso         0.67007        0.66716   0.667160   \n",
              "8                 SVR         0.65170        0.65048   0.650482   \n",
              "3          ElasticNet         0.62890        0.60469   0.604689   \n",
              "11    GaussianProcess         0.99965      -28.46319 -28.463192   \n",
              "\n",
              "    mean sqrr error  root mean sqr error  mean abs error  \n",
              "6          58144.04           241.130747      159.504886  \n",
              "5          64335.53           253.644490      166.299746  \n",
              "7         108738.75           329.755597      206.825465  \n",
              "4         121104.66           348.000949      225.215588  \n",
              "9         163791.63           404.711780      286.263584  \n",
              "10        164564.92           405.666018      287.515924  \n",
              "0         164932.56           406.118895      287.117190  \n",
              "1         165003.48           406.206202      287.184724  \n",
              "2         165201.48           406.449852      287.531378  \n",
              "8         173479.73           416.508974      285.047403  \n",
              "3         196208.59           442.954386      315.733013  \n",
              "11      14623739.34          3824.099808      953.442647  "
            ],
            "text/html": [
              "\n",
              "  <div id=\"df-6289f92a-7dfe-4b0c-9f8b-6ac8d7db0343\">\n",
              "    <div class=\"colab-df-container\">\n",
              "      <div>\n",
              "<style scoped>\n",
              "    .dataframe tbody tr th:only-of-type {\n",
              "        vertical-align: middle;\n",
              "    }\n",
              "\n",
              "    .dataframe tbody tr th {\n",
              "        vertical-align: top;\n",
              "    }\n",
              "\n",
              "    .dataframe thead th {\n",
              "        text-align: right;\n",
              "    }\n",
              "</style>\n",
              "<table border=\"1\" class=\"dataframe\">\n",
              "  <thead>\n",
              "    <tr style=\"text-align: right;\">\n",
              "      <th></th>\n",
              "      <th>Model Name</th>\n",
              "      <th>Train Accuracy</th>\n",
              "      <th>Test Accuracy</th>\n",
              "      <th>R2 Score</th>\n",
              "      <th>mean sqrr error</th>\n",
              "      <th>root mean sqr error</th>\n",
              "      <th>mean abs error</th>\n",
              "    </tr>\n",
              "  </thead>\n",
              "  <tbody>\n",
              "    <tr>\n",
              "      <th>6</th>\n",
              "      <td>ExtraTree</td>\n",
              "      <td>0.99965</td>\n",
              "      <td>0.88285</td>\n",
              "      <td>0.882854</td>\n",
              "      <td>58144.04</td>\n",
              "      <td>241.130747</td>\n",
              "      <td>159.504886</td>\n",
              "    </tr>\n",
              "    <tr>\n",
              "      <th>5</th>\n",
              "      <td>RandomForest</td>\n",
              "      <td>0.97715</td>\n",
              "      <td>0.87038</td>\n",
              "      <td>0.870380</td>\n",
              "      <td>64335.53</td>\n",
              "      <td>253.644490</td>\n",
              "      <td>166.299746</td>\n",
              "    </tr>\n",
              "    <tr>\n",
              "      <th>7</th>\n",
              "      <td>KNN</td>\n",
              "      <td>0.99965</td>\n",
              "      <td>0.78092</td>\n",
              "      <td>0.780918</td>\n",
              "      <td>108738.75</td>\n",
              "      <td>329.755597</td>\n",
              "      <td>206.825465</td>\n",
              "    </tr>\n",
              "    <tr>\n",
              "      <th>4</th>\n",
              "      <td>DecisionTree</td>\n",
              "      <td>0.99965</td>\n",
              "      <td>0.75600</td>\n",
              "      <td>0.756004</td>\n",
              "      <td>121104.66</td>\n",
              "      <td>348.000949</td>\n",
              "      <td>225.215588</td>\n",
              "    </tr>\n",
              "    <tr>\n",
              "      <th>9</th>\n",
              "      <td>LinearSVR</td>\n",
              "      <td>0.66909</td>\n",
              "      <td>0.67000</td>\n",
              "      <td>0.670001</td>\n",
              "      <td>163791.63</td>\n",
              "      <td>404.711780</td>\n",
              "      <td>286.263584</td>\n",
              "    </tr>\n",
              "    <tr>\n",
              "      <th>10</th>\n",
              "      <td>GradientBoost</td>\n",
              "      <td>0.67000</td>\n",
              "      <td>0.66844</td>\n",
              "      <td>0.668443</td>\n",
              "      <td>164564.92</td>\n",
              "      <td>405.666018</td>\n",
              "      <td>287.515924</td>\n",
              "    </tr>\n",
              "    <tr>\n",
              "      <th>0</th>\n",
              "      <td>Linear Regression</td>\n",
              "      <td>0.67012</td>\n",
              "      <td>0.66770</td>\n",
              "      <td>0.667702</td>\n",
              "      <td>164932.56</td>\n",
              "      <td>406.118895</td>\n",
              "      <td>287.117190</td>\n",
              "    </tr>\n",
              "    <tr>\n",
              "      <th>1</th>\n",
              "      <td>Ridge</td>\n",
              "      <td>0.67011</td>\n",
              "      <td>0.66756</td>\n",
              "      <td>0.667559</td>\n",
              "      <td>165003.48</td>\n",
              "      <td>406.206202</td>\n",
              "      <td>287.184724</td>\n",
              "    </tr>\n",
              "    <tr>\n",
              "      <th>2</th>\n",
              "      <td>Lasso</td>\n",
              "      <td>0.67007</td>\n",
              "      <td>0.66716</td>\n",
              "      <td>0.667160</td>\n",
              "      <td>165201.48</td>\n",
              "      <td>406.449852</td>\n",
              "      <td>287.531378</td>\n",
              "    </tr>\n",
              "    <tr>\n",
              "      <th>8</th>\n",
              "      <td>SVR</td>\n",
              "      <td>0.65170</td>\n",
              "      <td>0.65048</td>\n",
              "      <td>0.650482</td>\n",
              "      <td>173479.73</td>\n",
              "      <td>416.508974</td>\n",
              "      <td>285.047403</td>\n",
              "    </tr>\n",
              "    <tr>\n",
              "      <th>3</th>\n",
              "      <td>ElasticNet</td>\n",
              "      <td>0.62890</td>\n",
              "      <td>0.60469</td>\n",
              "      <td>0.604689</td>\n",
              "      <td>196208.59</td>\n",
              "      <td>442.954386</td>\n",
              "      <td>315.733013</td>\n",
              "    </tr>\n",
              "    <tr>\n",
              "      <th>11</th>\n",
              "      <td>GaussianProcess</td>\n",
              "      <td>0.99965</td>\n",
              "      <td>-28.46319</td>\n",
              "      <td>-28.463192</td>\n",
              "      <td>14623739.34</td>\n",
              "      <td>3824.099808</td>\n",
              "      <td>953.442647</td>\n",
              "    </tr>\n",
              "  </tbody>\n",
              "</table>\n",
              "</div>\n",
              "      <button class=\"colab-df-convert\" onclick=\"convertToInteractive('df-6289f92a-7dfe-4b0c-9f8b-6ac8d7db0343')\"\n",
              "              title=\"Convert this dataframe to an interactive table.\"\n",
              "              style=\"display:none;\">\n",
              "        \n",
              "  <svg xmlns=\"http://www.w3.org/2000/svg\" height=\"24px\"viewBox=\"0 0 24 24\"\n",
              "       width=\"24px\">\n",
              "    <path d=\"M0 0h24v24H0V0z\" fill=\"none\"/>\n",
              "    <path d=\"M18.56 5.44l.94 2.06.94-2.06 2.06-.94-2.06-.94-.94-2.06-.94 2.06-2.06.94zm-11 1L8.5 8.5l.94-2.06 2.06-.94-2.06-.94L8.5 2.5l-.94 2.06-2.06.94zm10 10l.94 2.06.94-2.06 2.06-.94-2.06-.94-.94-2.06-.94 2.06-2.06.94z\"/><path d=\"M17.41 7.96l-1.37-1.37c-.4-.4-.92-.59-1.43-.59-.52 0-1.04.2-1.43.59L10.3 9.45l-7.72 7.72c-.78.78-.78 2.05 0 2.83L4 21.41c.39.39.9.59 1.41.59.51 0 1.02-.2 1.41-.59l7.78-7.78 2.81-2.81c.8-.78.8-2.07 0-2.86zM5.41 20L4 18.59l7.72-7.72 1.47 1.35L5.41 20z\"/>\n",
              "  </svg>\n",
              "      </button>\n",
              "      \n",
              "  <style>\n",
              "    .colab-df-container {\n",
              "      display:flex;\n",
              "      flex-wrap:wrap;\n",
              "      gap: 12px;\n",
              "    }\n",
              "\n",
              "    .colab-df-convert {\n",
              "      background-color: #E8F0FE;\n",
              "      border: none;\n",
              "      border-radius: 50%;\n",
              "      cursor: pointer;\n",
              "      display: none;\n",
              "      fill: #1967D2;\n",
              "      height: 32px;\n",
              "      padding: 0 0 0 0;\n",
              "      width: 32px;\n",
              "    }\n",
              "\n",
              "    .colab-df-convert:hover {\n",
              "      background-color: #E2EBFA;\n",
              "      box-shadow: 0px 1px 2px rgba(60, 64, 67, 0.3), 0px 1px 3px 1px rgba(60, 64, 67, 0.15);\n",
              "      fill: #174EA6;\n",
              "    }\n",
              "\n",
              "    [theme=dark] .colab-df-convert {\n",
              "      background-color: #3B4455;\n",
              "      fill: #D2E3FC;\n",
              "    }\n",
              "\n",
              "    [theme=dark] .colab-df-convert:hover {\n",
              "      background-color: #434B5C;\n",
              "      box-shadow: 0px 1px 3px 1px rgba(0, 0, 0, 0.15);\n",
              "      filter: drop-shadow(0px 1px 2px rgba(0, 0, 0, 0.3));\n",
              "      fill: #FFFFFF;\n",
              "    }\n",
              "  </style>\n",
              "\n",
              "      <script>\n",
              "        const buttonEl =\n",
              "          document.querySelector('#df-6289f92a-7dfe-4b0c-9f8b-6ac8d7db0343 button.colab-df-convert');\n",
              "        buttonEl.style.display =\n",
              "          google.colab.kernel.accessAllowed ? 'block' : 'none';\n",
              "\n",
              "        async function convertToInteractive(key) {\n",
              "          const element = document.querySelector('#df-6289f92a-7dfe-4b0c-9f8b-6ac8d7db0343');\n",
              "          const dataTable =\n",
              "            await google.colab.kernel.invokeFunction('convertToInteractive',\n",
              "                                                     [key], {});\n",
              "          if (!dataTable) return;\n",
              "\n",
              "          const docLinkHtml = 'Like what you see? Visit the ' +\n",
              "            '<a target=\"_blank\" href=https://colab.research.google.com/notebooks/data_table.ipynb>data table notebook</a>'\n",
              "            + ' to learn more about interactive tables.';\n",
              "          element.innerHTML = '';\n",
              "          dataTable['output_type'] = 'display_data';\n",
              "          await google.colab.output.renderOutput(dataTable, element);\n",
              "          const docLink = document.createElement('div');\n",
              "          docLink.innerHTML = docLinkHtml;\n",
              "          element.appendChild(docLink);\n",
              "        }\n",
              "      </script>\n",
              "    </div>\n",
              "  </div>\n",
              "  "
            ]
          },
          "metadata": {},
          "execution_count": 79
        }
      ]
    }
  ],
  "metadata": {
    "kernelspec": {
      "display_name": "Python 3",
      "language": "python",
      "name": "python3"
    },
    "language_info": {
      "codemirror_mode": {
        "name": "ipython",
        "version": 3
      },
      "file_extension": ".py",
      "mimetype": "text/x-python",
      "name": "python",
      "nbconvert_exporter": "python",
      "pygments_lexer": "ipython3",
      "version": "3.8.8"
    },
    "colab": {
      "name": "project-02 global_laptop_selling-Regression ML.ipynb",
      "provenance": [],
      "include_colab_link": true
    }
  },
  "nbformat": 4,
  "nbformat_minor": 5
}